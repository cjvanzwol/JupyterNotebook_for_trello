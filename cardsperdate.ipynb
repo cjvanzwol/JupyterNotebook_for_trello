{
 "cells": [
  {
   "cell_type": "code",
   "execution_count": 1,
   "metadata": {},
   "outputs": [],
   "source": [
    "exec(open(\"./jsonparse.py\").read())"
   ]
  },
  {
   "cell_type": "code",
   "execution_count": 2,
   "metadata": {},
   "outputs": [],
   "source": [
    "def actions_card(idofcard):\n",
    "    objectname = json.loads(json.dumps(requests.get(trello_base_url+\"cards/\"+idofcard+\"/actions?actions_limit=500&filter=updateCard,createCard,deleteCard&\"+keys).json()))\n",
    "    return objectname\n"
   ]
  },
  {
   "cell_type": "code",
   "execution_count": 3,
   "metadata": {},
   "outputs": [],
   "source": [
    "for i,j in kaarten.items():\n",
    "    j['actions'] = actions_card(i)"
   ]
  },
  {
   "cell_type": "code",
   "execution_count": 4,
   "metadata": {},
   "outputs": [],
   "source": [
    "for i,j in kaarten.items():\n",
    "    j['movements'] = {}\n",
    "    for k in j['actions']:\n",
    "        try:\n",
    "            j['movements'][k['id']] = {'listBefore': k['data']['listBefore'],\n",
    "                                       'listAfter': k['data']['listAfter'],\n",
    "                                       'datum': k['date']\n",
    "                                      }\n",
    "\n",
    "        except:\n",
    "            pass"
   ]
  },
  {
   "cell_type": "code",
   "execution_count": 12,
   "metadata": {},
   "outputs": [],
   "source": [
    "for i,j in kaarten.items():\n",
    "    j['datestarted'] = None\n",
    "    j['datedone'] = None\n",
    "    if j['movements'] != {}:\n",
    "        for k,l in j['movements'].items():\n",
    "            tmp = []\n",
    "            tmp2 = []\n",
    "            if l['listAfter']['name'] in lijstendoing:\n",
    "                if l['listBefore']['name'] not in lijstendoing:\n",
    "                    tmp.append(datetime.strptime(l['datum'][0:19],'%Y-%m-%dT%H:%M:%S'))\n",
    "                    if datetime.strptime(l['datum'][0:19],'%Y-%m-%dT%H:%M:%S') == min(tmp):\n",
    "                        j['datestarted'] = min(tmp)\n",
    "            if l['listAfter']['name'] in lijstendone:\n",
    "                if j['list'] in lijstendone:\n",
    "                    tmp2.append(datetime.strptime(l['datum'][0:19],'%Y-%m-%dT%H:%M:%S'))\n",
    "                    if datetime.strptime(l['datum'][0:19],'%Y-%m-%dT%H:%M:%S') == max(tmp2):\n",
    "                        j['datedone'] = max(tmp2)\n",
    "for i,j in kaarten.items():\n",
    "    if j['datestarted'] == None:\n",
    "        if j['status'] == 'Doing':\n",
    "            j['datestarted'] = j['created']\n",
    "        elif j['status'] == 'Done':\n",
    "            j['datestarted'] = j['created']\n",
    "for i,j in kaarten.items():\n",
    "    if j['status'] == 'Done':\n",
    "        try:\n",
    "            delta = j['datedone'] - j['datestarted']\n",
    "            j['leadtime'] = delta.days\n",
    "        except:\n",
    "            j['leadtime'] = None\n",
    "    else: j['leadtime'] = None"
   ]
  },
  {
   "cell_type": "code",
   "execution_count": null,
   "metadata": {},
   "outputs": [],
   "source": [
    "for i,j in kaarten.items():\n",
    "    del j['actions']\n",
    "    del j['movements']"
   ]
  },
  {
   "cell_type": "code",
   "execution_count": 14,
   "metadata": {},
   "outputs": [],
   "source": [
    "datelist = pd.date_range(end = pd.datetime.today(), periods = 100).to_pydatetime().tolist()\n",
    "datesdict = {}\n",
    "for i in datelist:\n",
    "    datesdict[str(i.date())]= {}"
   ]
  },
  {
   "cell_type": "code",
   "execution_count": null,
   "metadata": {},
   "outputs": [],
   "source": []
  }
 ],
 "metadata": {
  "kernelspec": {
   "display_name": "trello",
   "language": "python",
   "name": "trello"
  },
  "language_info": {
   "codemirror_mode": {
    "name": "ipython",
    "version": 3
   },
   "file_extension": ".py",
   "mimetype": "text/x-python",
   "name": "python",
   "nbconvert_exporter": "python",
   "pygments_lexer": "ipython3",
   "version": "3.8.1"
  }
 },
 "nbformat": 4,
 "nbformat_minor": 2
}
