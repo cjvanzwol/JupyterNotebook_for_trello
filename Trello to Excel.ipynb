{
 "cells": [
  {
   "cell_type": "markdown",
   "metadata": {},
   "source": [
    "## Import libraries"
   ]
  },
  {
   "cell_type": "code",
   "execution_count": 1,
   "metadata": {},
   "outputs": [],
   "source": [
    "from matplotlib import pyplot as plt\n",
    "import json\n",
    "import requests\n",
    "import pprint as pprint\n",
    "from datetime import datetime\n",
    "from datetime import date\n",
    "import ipywidgets as widgets\n",
    "import openpyxl\n",
    "from openpyxl import Workbook\n",
    "import pandas as pd\n",
    "from openpyxl import load_workbook\n",
    "import os\n",
    "import xlsxwriter\n",
    "import xlrd"
   ]
  },
  {
   "cell_type": "markdown",
   "metadata": {},
   "source": [
    "## Create variables-file (if not exists)"
   ]
  },
  {
   "cell_type": "code",
   "execution_count": 2,
   "metadata": {},
   "outputs": [],
   "source": [
    "if not os.path.exists('.variables'):\n",
    "    key = input(\"Enter your API-key: \")\n",
    "    token = input(\"Enter your API-token: \")\n",
    "    allboards = json.loads(json.dumps(requests.get(\"https://api.trello.com/1/members/me/boards?key=\"+key+\"&token=\"+token).json()))\n",
    "    print('These are your boards: ')\n",
    "    for i in allboards:\n",
    "        if i['closed'] == False:\n",
    "            print('Name: ',i['name'],', ID:',i['id'])\n",
    "    boardid = input(\"Enter your board-id: \")\n",
    "    \n",
    "    print('These are the lists on the chosen board.')\n",
    "    alllists = json.loads(json.dumps(requests.get(\"https://api.trello.com/1/boards/\"+boardid+\"/lists?key=\"+key+\"&token=\"+token).json()))\n",
    "    for i in alllists:\n",
    "        if i['closed'] == False:\n",
    "            print(i['name'])\n",
    "    print()\n",
    "    startlists = input(\"Enter the lists with cards that are not started (comma separated): \")\n",
    "    print()\n",
    "    blockedlists = input(\"Enter the lists with cards that are blocked(comma separated): \")\n",
    "    print()\n",
    "    doinglists = input(\"Enter the lists with the doing cards (comma separated): \")\n",
    "    print()\n",
    "    donelists = input(\"Enter the lists with cards that are done (comma separated): \")\n",
    "    print()\n",
    "    print()\n",
    "    filenamewithoutextension = input(\"Enter the name for the excel file (without .xlsx)\")\n",
    "    filenamewithextension = filenamewithoutextension+\".xlsx\"\n",
    "    print()\n",
    "    print()\n",
    "    file = open('.variables', 'w')\n",
    "    file = open('.variables', 'a')\n",
    "    file.write(key)\n",
    "    file.write('\\n')\n",
    "    file.write(token)\n",
    "    file.write('\\n')\n",
    "    file.write(boardid)\n",
    "    file.write('\\n')\n",
    "    file.write(startlists)\n",
    "    file.write('\\n')\n",
    "    file.write(blockedlists)\n",
    "    file.write('\\n')\n",
    "    file.write(doinglists)\n",
    "    file.write('\\n')\n",
    "    file.write(donelists)\n",
    "    file.write('\\n')\n",
    "    file.write(filenamewithextension)\n",
    "    file.close()\n",
    "    print('Your variables are saved in the file \\'.variables\\'. Please do not delete this file.')"
   ]
  },
  {
   "cell_type": "markdown",
   "metadata": {},
   "source": [
    "## Get variables from file"
   ]
  },
  {
   "cell_type": "code",
   "execution_count": 3,
   "metadata": {},
   "outputs": [],
   "source": [
    "f = open('.variables', 'r')\n",
    "variables = f.read().splitlines()\n",
    "\n",
    "lijstenbeginnen = []\n",
    "lijstenblocked = []\n",
    "lijstendoing = []\n",
    "lijstendone = []\n",
    "\n",
    "\n",
    "\n",
    "\n",
    "api_key = variables[0]\n",
    "api_token = variables[1]\n",
    "bordid = variables[2]\n",
    "lijstenbeginnen = variables[3].split(',')\n",
    "lijstenblocked = variables[4].split(',')\n",
    "lijstendoing = variables[5].split(',')\n",
    "lijstendone = variables[6].split(',')\n",
    "excelfile = variables[7]\n",
    "\n",
    "lijstenforscrum = []\n",
    "for i in lijstenbeginnen:\n",
    "    lijstenforscrum.append(i)\n",
    "    \n",
    "lijstenforscrum.extend(lijstenblocked)\n",
    "lijstenforscrum.extend(lijstendoing)\n",
    "lijstenforscrum.extend(lijstendone)\n",
    "\n",
    "\n",
    "f.close()\n"
   ]
  },
  {
   "cell_type": "markdown",
   "metadata": {},
   "source": [
    "## Create URLs"
   ]
  },
  {
   "cell_type": "code",
   "execution_count": 4,
   "metadata": {},
   "outputs": [],
   "source": [
    "keys = \"key=\"+api_key+\"&token=\"+api_token\n",
    "trello_base_url = \"https://api.trello.com/1/\"\n",
    "board_url = trello_base_url+\"boards/\"+bordid\n",
    "url_cards = board_url+\"/cards?customFieldItems=true&\"+keys\n",
    "url_lists = board_url+\"/lists?\"+keys\n",
    "url_customfields = board_url+\"/customFields?\"+keys\n",
    "url_labels = board_url+\"/labels?\"+keys\n",
    "url_members = board_url+\"/members?\"+keys\n",
    "statussen = ['Nog starten','Blocked','Doing','Done']"
   ]
  },
  {
   "cell_type": "markdown",
   "metadata": {},
   "source": [
    "## Get JSON and parse to objects "
   ]
  },
  {
   "cell_type": "code",
   "execution_count": 5,
   "metadata": {},
   "outputs": [],
   "source": [
    "cards = json.loads(json.dumps(requests.get(url_cards).json()))\n",
    "lists = json.loads(json.dumps(requests.get(url_lists).json()))\n",
    "customfields = json.loads(json.dumps(requests.get(url_customfields).json()))\n",
    "labels = json.loads(json.dumps(requests.get(url_labels).json()))\n",
    "members = json.loads(json.dumps(requests.get(url_members).json()))"
   ]
  },
  {
   "cell_type": "markdown",
   "metadata": {},
   "source": [
    "## Create dictionary for custom fields"
   ]
  },
  {
   "cell_type": "code",
   "execution_count": 7,
   "metadata": {},
   "outputs": [],
   "source": [
    "customfields_dict = {}\n",
    "for i in customfields:\n",
    "    customfields_dict[i['id']] = {}\n",
    "    if i['type'] == 'date':\n",
    "        customfields_dict[i['id']][i['name']] = {}\n",
    "        customfields_dict[i['id']][i['name']]['options'] = {'id': 'date'}\n",
    "       \n",
    "\n",
    "    else:\n",
    "        customfields_dict[i['id']][i['name']] = {}\n",
    "        customfields_dict[i['id']][i['name']]['options'] = {}\n",
    "        for j in i['options']:\n",
    "            customfields_dict[i['id']][i['name']]['options'][j['id']] =  j['value']['text']\n",
    "\n",
    "customfieldsmetdate = []\n",
    "for i,j in customfields_dict.items():\n",
    "        for k,l in j.items():\n",
    "            try:\n",
    "                if l['options']['id'] == 'date':\n",
    "                    customfieldsmetdate.append(i)\n",
    "            except:\n",
    "                pass\n"
   ]
  },
  {
   "cell_type": "markdown",
   "metadata": {},
   "source": [
    "## create function to calculate datetime of creation"
   ]
  },
  {
   "cell_type": "code",
   "execution_count": 8,
   "metadata": {},
   "outputs": [],
   "source": [
    "def idtodate(cardid):\n",
    "    hex = cardid[0:8]\n",
    "    timestamp = int(hex,16)\n",
    "    timedate = datetime.fromtimestamp(timestamp)\n",
    "    return timedate"
   ]
  },
  {
   "cell_type": "markdown",
   "metadata": {},
   "source": [
    "## Create dictionary for cards"
   ]
  },
  {
   "cell_type": "code",
   "execution_count": 10,
   "metadata": {},
   "outputs": [],
   "source": [
    "kaarten = {}\n",
    "\n",
    "for i in cards:\n",
    "        kaarten[i['id']] = {'name': i['name'],\n",
    "                            'id': i['id'],\n",
    "                            'idlist': i['idList'],\n",
    "                            'customfields': i['customFieldItems'],\n",
    "                            'customfieldvalues': {'Gebied': None, \n",
    "                                                  'Hoofdverantwoordelijke': None, \n",
    "                                                  'Prioriteit': None,\n",
    "                                                  'Voltooid': None,\n",
    "                                                  'Beginnen': None,\n",
    "                                                  'Tijdsbelasting': None\n",
    "                                                 },\n",
    "                            'labels': {},\n",
    "                            'members': {},\n",
    "                            'sjabloon': i['isTemplate'],\n",
    "                            'vervaldatum': None\n",
    "\n",
    "                           }\n",
    "        \n",
    "for i,j in kaarten.items():\n",
    "    date = idtodate(i)\n",
    "    j['datum aanmaak'] = str(date)\n",
    "    for k in lists:\n",
    "        if j['idlist'] == k['id']: j['list'] = k['name'] \n",
    "if customfields_dict == {}:\n",
    "    for i,j in kaarten.items():\n",
    "        j['customfieldvalues'] = {}\n",
    "else:\n",
    "\n",
    "    for i,j in kaarten.items():\n",
    "        for k in j['customfields']:\n",
    "        \n",
    "            for l,m in customfields_dict.items():\n",
    "\n",
    "                for n,o in m.items():\n",
    "                    if k['idCustomField'] not in customfieldsmetdate:\n",
    "                        for p,q in o.items():\n",
    "                            for r,s in q.items():\n",
    "                                if r == k['idValue']:\n",
    "                                    j['customfieldvalues'][n] = s\n",
    "                    if k['idCustomField'] in customfieldsmetdate:\n",
    "                        j['customfieldvalues']['Beginnen'] = k['value']['date'][0:10]\n",
    "\n",
    "                        \n",
    "\n",
    "                  \n",
    "for i in cards:\n",
    "    if i['due'] != None:\n",
    "        kaarten[i['id']]['vervaldatum'] = i['due'][0:10]\n",
    "    for j in i['labels']:\n",
    "        kaarten[i['id']]['labels'][j['name']] = j['id']\n",
    "\n",
    "\n",
    "for i in cards:\n",
    "    for j in i['idMembers']:\n",
    "\n",
    "        for k in members:\n",
    "\n",
    "            if j == k['id']:\n",
    "                    kaarten[i['id']]['members'][k['id']] = k['fullName']\n",
    "\n",
    "for i,j in kaarten.items():\n",
    "    if j['list'] in lijstenbeginnen:\n",
    "        j['status'] = 'Niet gestart'\n",
    "    elif j['list'] in lijstendoing:\n",
    "        j['status'] = 'Doing'\n",
    "    elif j['list'] in lijstenblocked:\n",
    "        j['status'] = 'Blocked'\n",
    "    elif j['list'] in lijstendone:\n",
    "        j['status'] = 'Done'\n",
    "\n",
    "for i,j in kaarten.items():\n",
    "    del j['customfields']\n",
    "    del j['idlist']\n",
    "    del j['id']\n",
    "\n",
    "tedeletenlijsten = []\n",
    "\n",
    "for i in lists:\n",
    "    if i['name'] not in lijstenforscrum:\n",
    "        tedeletenlijsten.append(i['name'])\n",
    "tedeletenkaarten = []\n",
    "for i,j in kaarten.items():\n",
    "    if j['sjabloon'] == True:\n",
    "        tedeletenkaarten.append(i)\n",
    "    elif j['list'] in tedeletenlijsten:\n",
    "        tedeletenkaarten.append(i)\n",
    "\n",
    "for i in tedeletenkaarten:\n",
    "    if i in kaarten:\n",
    "        del kaarten[i]\n"
   ]
  },
  {
   "cell_type": "markdown",
   "metadata": {},
   "source": [
    "## Create dictionary for countings"
   ]
  },
  {
   "cell_type": "code",
   "execution_count": 13,
   "metadata": {
    "scrolled": true
   },
   "outputs": [],
   "source": [
    "listforlistname = []\n",
    "for i in lists:\n",
    "    if i['name'] not in tedeletenlijsten:\n",
    "        listforlistname.append(i['name'])\n",
    "\n",
    "listcounts = {}\n",
    "for i in listforlistname:\n",
    "    listcounts[i] = sum(value['list'] == i for value in kaarten.values())\n"
   ]
  },
  {
   "cell_type": "markdown",
   "metadata": {},
   "source": [
    "## Split cards into new dictionaries for each status"
   ]
  },
  {
   "cell_type": "code",
   "execution_count": 14,
   "metadata": {},
   "outputs": [],
   "source": [
    "nietgestart = {}\n",
    "blocked = {}\n",
    "doing = {}\n",
    "done = {}\n",
    "\n",
    "for i,j in kaarten.items():\n",
    "    if j['list'] in lijstenbeginnen:\n",
    "        nietgestart[i] = j\n",
    "    elif j['list'] in lijstenblocked:\n",
    "        blocked[i] = j\n",
    "    elif j['list'] in lijstendoing:\n",
    "        doing[i] = j\n",
    "    elif j['list'] in lijstendone:\n",
    "        done[i] = j\n"
   ]
  },
  {
   "cell_type": "markdown",
   "metadata": {},
   "source": [
    "## Create another dictionary for counting"
   ]
  },
  {
   "cell_type": "code",
   "execution_count": 15,
   "metadata": {},
   "outputs": [],
   "source": [
    "countingcards = {}\n",
    "\n",
    "for i,j in customfields_dict.items():\n",
    "    for k,l in j.items():\n",
    "        if i not in customfieldsmetdate:\n",
    "            countingcards[k] = {}\n",
    "            for m,n in l.items():\n",
    "                for o in n.values():\n",
    "                    countingcards[k][o] = 0\n",
    "\n",
    "counters = {}\n",
    "                \n",
    "for i,j in countingcards.items():\n",
    "    counters[i] = {}\n",
    "    \n",
    "    for k,l in j.items():\n",
    "        for m,n in kaarten.items():\n",
    "            for o,p in n.items():\n",
    "                if o == 'customfieldvalues':\n",
    "                    for q,r in p.items():\n",
    "                        if r != None:\n",
    "                            if i==q:\n",
    "                                if k==r:\n",
    "                                    l += 1\n",
    "                                    counters[i][r] = l\n"
   ]
  },
  {
   "cell_type": "markdown",
   "metadata": {},
   "source": [
    "## Create function to count for each status (WIP)"
   ]
  },
  {
   "cell_type": "code",
   "execution_count": 16,
   "metadata": {},
   "outputs": [],
   "source": [
    "def countingperstatus(customfield, statusdict):\n",
    "    customfield = {}\n",
    "    for i,j in countingcards.items():\n",
    "        customfield[i] = {}\n",
    "        for k,l in j.items():\n",
    "\n",
    "            for m,n in statusdict.items():\n",
    "                for o,p in n.items():\n",
    "                    if o == 'customfieldvalues':\n",
    "                        for q,r in p.items():\n",
    "                                if i == q:\n",
    "                                    if k == r:\n",
    "                                        l += 1\n",
    "                                        customfield[i][r] = l\n",
    "    return customfield"
   ]
  },
  {
   "cell_type": "markdown",
   "metadata": {},
   "source": [
    "## Create function to write to the excelfile"
   ]
  },
  {
   "cell_type": "code",
   "execution_count": 17,
   "metadata": {},
   "outputs": [],
   "source": [
    "def schrijfnaarexcel(countdict,excelfile,sheetname):\n",
    "    if not os.path.exists(excelfile):\n",
    "        workbook = xlsxwriter.Workbook(excelfile)\n",
    "        worksheet = workbook.add_worksheet(\"Lijsten\")\n",
    "        for i in statussen:\n",
    "            worksheet = workbook.add_worksheet(i)\n",
    "        worksheet = workbook.add_worksheet(\"Vervallen\")\n",
    "#        for i in counters:\n",
    "#            worksheet = workbook.add_worksheet(i)\n",
    "        workbook.close()\n",
    "#    xls = xlrd.open_workbook(r'werkvoorraden.xlsx', on_demand=True)\n",
    "#    sheetnames = xls.sheet_names() \n",
    "    counts = []\n",
    "    index = []\n",
    "    columns = []\n",
    "    now = datetime.now()\n",
    "    counts.append(now.strftime(\"%d-%m-%Y %H:%M\"))\n",
    "    columns.append('Date')\n",
    "    for i,j in countdict.items():\n",
    "        columns.append(i)\n",
    "        counts.append(j)\n",
    "    df_columnnames = pd.DataFrame([columns])\n",
    "    df_counts = pd.DataFrame([counts],columns=columns)\n",
    "    book = load_workbook(excelfile)\n",
    "    writer = pd.ExcelWriter(excelfile,engine='openpyxl')\n",
    "    writer.book = book\n",
    "    writer.sheets = {ws.title: ws for ws in book.worksheets}\n",
    "    valuecount = writer.sheets[sheetname]['B1'].value\n",
    "    if valuecount == 0 or valuecount == None:\n",
    "        df_columnnames.to_excel(writer,sheet_name=sheetname,startrow=1, index=False,header=False)\n",
    "        writer.sheets[sheetname]['A1'].value = 'Counter'\n",
    "        writer.sheets[sheetname]['B1'].value = 2\n",
    "    valuecount = writer.sheets[sheetname]['B1'].value\n",
    "    df_counts.to_excel(writer,sheet_name=sheetname, startrow=writer.sheets[sheetname]['B1'].value, index = False,header= False)\n",
    "    writer.sheets[sheetname]['B1'].value = valuecount + 1\n",
    "    writer.save()"
   ]
  },
  {
   "cell_type": "markdown",
   "metadata": {},
   "source": [
    "## Create objects to write to excel (WIP)"
   ]
  },
  {
   "cell_type": "code",
   "execution_count": 18,
   "metadata": {},
   "outputs": [],
   "source": [
    "count_nietgestart = countingperstatus('prioriteit', nietgestart)\n",
    "count_blocked = countingperstatus('prioriteit', blocked)\n",
    "count_doing = countingperstatus('prioriteit', doing)\n",
    "count_done = countingperstatus('prioriteit', done)\n"
   ]
  },
  {
   "cell_type": "markdown",
   "metadata": {},
   "source": [
    "## Create function to write fields to excel (WIP)"
   ]
  },
  {
   "cell_type": "code",
   "execution_count": 19,
   "metadata": {},
   "outputs": [],
   "source": [
    "def schrijffieldsnaarexcel(countdict,excelfile,sheetname):\n",
    "    if not os.path.exists(excelfile):\n",
    "        workbook = xlsxwriter.Workbook(excelfile)\n",
    "        worksheet = workbook.add_worksheet(\"Lijsten\")\n",
    "        for i in statussen:\n",
    "            worksheet = workbook.add_worksheet(i)\n",
    "#        for i in counters:\n",
    "#            worksheet = workbook.add_worksheet(i)\n",
    "        workbook.close()\n",
    "#    xls = xlrd.open_workbook(r'werkvoorraden.xlsx', on_demand=True)\n",
    "#    sheetnames = xls.sheet_names() \n",
    "    counts = []\n",
    "    index = []\n",
    "    now = datetime.now()\n",
    "    counts.append(now.strftime(\"%d-%m-%Y %H:%M\"))\n",
    "    columns.append('Date')\n",
    "    for i,j in countdict.items():\n",
    "        columns.append(i)\n",
    "        columns2.append(' ')\n",
    "        for k,l in j.items():\n",
    "            columns.append(' ')\n",
    "            columns2.append(k)\n",
    "        counts.append(j)\n",
    "    df_columnnames = pd.DataFrame([columns])\n",
    "    df_counts = pd.DataFrame([counts],columns=columns)\n",
    "    book = load_workbook(excelfile)\n",
    "    writer = pd.ExcelWriter(excelfile,engine='openpyxl')\n",
    "    writer.book = book\n",
    "    writer.sheets = {ws.title: ws for ws in book.worksheets}\n",
    "    valuecount = writer.sheets[sheetname]['B1'].value\n",
    "    if valuecount == 0 or valuecount == None:\n",
    "        df_columnnames.to_excel(writer,sheet_name=sheetname,startrow=1, index=False,header=False)\n",
    "        writer.sheets[sheetname]['A1'].value = 'Counter'\n",
    "        writer.sheets[sheetname]['B1'].value = 2\n",
    "    valuecount = writer.sheets[sheetname]['B1'].value\n",
    "    df_counts.to_excel(writer,sheet_name=sheetname, startrow=writer.sheets[sheetname]['B1'].value, index = False,header= False)\n",
    "    writer.sheets[sheetname]['B1'].value = valuecount + 1\n",
    "    writer.save()"
   ]
  },
  {
   "cell_type": "markdown",
   "metadata": {},
   "source": [
    "## Create list for writing fields to excel (WIP)"
   ]
  },
  {
   "cell_type": "code",
   "execution_count": 20,
   "metadata": {},
   "outputs": [],
   "source": [
    "listforverantwoordelijke = []\n",
    "listforgebied = []\n",
    "listforvoltooid = []\n",
    "listfortijdsbelasting = []\n",
    "listforprioriteit = []\n",
    "\n",
    "for i,j in kaarten.items():\n",
    "    if j['customfieldvalues'] != {}:\n",
    "        for k,l in j['customfieldvalues'].items():\n",
    "            if k == 'Gebied':\n",
    "                listforgebied.append(l)\n",
    "            elif k == 'Tijdsbelasting':\n",
    "                listfortijdsbelasting.append(l)\n",
    "            elif k == 'Prioriteit':\n",
    "                listforprioriteit.append(l)\n",
    "            elif k == 'Voltooid':\n",
    "                listforvoltooid.append(l)\n",
    "            elif k == 'Hoofdverantwoordelijke':\n",
    "                listforverantwoordelijke.append(l)\n",
    "\n",
    "listforverantwoordelijke = list(dict.fromkeys(listforverantwoordelijke))\n",
    "listforgebied = list(dict.fromkeys(listforgebied))\n",
    "listforvoltooid = list(dict.fromkeys(listforvoltooid))\n",
    "listfortijdsbelasting = list(dict.fromkeys(listfortijdsbelasting))\n",
    "listforprioriteit = list(dict.fromkeys(listforprioriteit))\n"
   ]
  },
  {
   "cell_type": "markdown",
   "metadata": {},
   "source": [
    "## Create another dictionary for counting fields (WIP)"
   ]
  },
  {
   "cell_type": "code",
   "execution_count": 21,
   "metadata": {},
   "outputs": [],
   "source": [
    "verantwoordelijkenietgestart = {}\n",
    "verantwoordelijkeblocked = {}\n",
    "verantwoordelijkedoing = {}\n",
    "verantwoordelijkedone = {}\n",
    "for i in listforverantwoordelijke:\n",
    "    verantwoordelijkenietgestart[i] = sum(value['customfieldvalues']['Hoofdverantwoordelijke'] == i for value in nietgestart.values())\n",
    "\n",
    "for i in listforverantwoordelijke:\n",
    "    verantwoordelijkeblocked[i] = sum(value['customfieldvalues']['Hoofdverantwoordelijke'] == i for value in blocked.values())\n",
    "\n",
    "for i in listforverantwoordelijke:\n",
    "    verantwoordelijkedoing[i] = sum(value['customfieldvalues']['Hoofdverantwoordelijke'] == i for value in doing.values())\n",
    "\n",
    "for i in listforverantwoordelijke:\n",
    "    verantwoordelijkedone[i] = sum(value['customfieldvalues']['Hoofdverantwoordelijke'] == i for value in done.values())\n"
   ]
  },
  {
   "cell_type": "markdown",
   "metadata": {},
   "source": [
    "## Write the counts to excel with function"
   ]
  },
  {
   "cell_type": "code",
   "execution_count": 22,
   "metadata": {},
   "outputs": [],
   "source": [
    "schrijfnaarexcel(listcounts,excelfile,'Lijsten')\n",
    "if customfields_dict != {}:\n",
    "    schrijfnaarexcel(verantwoordelijkenietgestart,excelfile,'Nog starten')\n",
    "    schrijfnaarexcel(verantwoordelijkeblocked,excelfile,'Blocked')\n",
    "    schrijfnaarexcel(verantwoordelijkedoing,excelfile,'Doing')\n",
    "    schrijfnaarexcel(verantwoordelijkedone,excelfile,'Done')"
   ]
  },
  {
   "cell_type": "markdown",
   "metadata": {},
   "source": [
    "## Create dictionary for all cards past the due date and write to excel"
   ]
  },
  {
   "cell_type": "code",
   "execution_count": 25,
   "metadata": {},
   "outputs": [],
   "source": [
    "dict_vervallen = {}\n",
    "\n",
    "current_date = date.today()\n",
    "for i,j in kaarten.items():\n",
    "    if j['status'] != 'Done':\n",
    "        if j['vervaldatum'] != None:\n",
    "#        print(int(j['vervaldatum'][0:4]))\n",
    "            vervaldatum = datetime.strptime(j['vervaldatum'], '%Y-%m-%d').date()\n",
    "            delta = vervaldatum - current_date.date()\n",
    "            if delta.days <= 0:\n",
    "                days = (delta.days)*-1\n",
    "                if customfields_dict != {}:\n",
    "                    dict_vervallen[j['name']] = {'Aantal dagen verlopen': delta.days, \n",
    "                                                    'Hoofdverantwoordelijke': j['customfieldvalues']['Hoofdverantwoordelijke'],\n",
    "                                                    'Gebied': j['customfieldvalues']['Gebied']}\n",
    "                else:\n",
    "                    leden = []\n",
    "                    for k,l in j['members'].items():\n",
    "                        leden.append(l)\n",
    "                        dict_vervallen[j['name']] = {'Aantal dagen verlopen': days, \n",
    "                                                    'Leden': leden}\n",
    "      \n",
    "\n",
    "book = load_workbook(excelfile)\n",
    "writer = pd.ExcelWriter(excelfile,engine='openpyxl')\n",
    "writer.book = book\n",
    "writer.sheets = {ws.title: ws for ws in book.worksheets}\n",
    "df = pd.DataFrame(data=dict_vervallen)\n",
    "df.transpose().to_excel(writer, sheet_name='Vervallen')\n",
    "writer.close()"
   ]
  },
  {
   "cell_type": "markdown",
   "metadata": {},
   "source": [
    "## Calculate days on Trello-board for Done-cards"
   ]
  },
  {
   "cell_type": "code",
   "execution_count": null,
   "metadata": {},
   "outputs": [],
   "source": []
  }
 ],
 "metadata": {
  "kernelspec": {
   "display_name": "Python 3",
   "language": "python",
   "name": "python3"
  },
  "language_info": {
   "codemirror_mode": {
    "name": "ipython",
    "version": 3
   },
   "file_extension": ".py",
   "mimetype": "text/x-python",
   "name": "python",
   "nbconvert_exporter": "python",
   "pygments_lexer": "ipython3",
   "version": "3.8.1"
  }
 },
 "nbformat": 4,
 "nbformat_minor": 2
}
