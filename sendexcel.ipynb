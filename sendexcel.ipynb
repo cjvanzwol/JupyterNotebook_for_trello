{
 "cells": [
  {
   "cell_type": "code",
   "execution_count": null,
   "metadata": {},
   "outputs": [],
   "source": [
    "exec(open(\"./cardsperdate.py\").read())"
   ]
  },
  {
   "cell_type": "code",
   "execution_count": null,
   "metadata": {},
   "outputs": [],
   "source": [
    "labelslist = []\n",
    "for i,j in kaarten.items():\n",
    "    for k,l in j.items():\n",
    "        if k=='labels' and l != {}:\n",
    "            for m,n in l.items():\n",
    "                labelslist.append((i,n))"
   ]
  },
  {
   "cell_type": "code",
   "execution_count": null,
   "metadata": {},
   "outputs": [],
   "source": [
    "memberslist = []\n",
    "for i,j in kaarten.items():\n",
    "    for k,l in j.items():\n",
    "        if k=='members' and l !={}:\n",
    "            for m,n in l.items():\n",
    "                memberslist.append((i,n))"
   ]
  },
  {
   "cell_type": "code",
   "execution_count": null,
   "metadata": {},
   "outputs": [],
   "source": [
    "if labelslist != []:\n",
    "    columnslabels = ['cardid','label']\n",
    "    columnsmembers = ['cardid','member']\n",
    "    df1 = pd.DataFrame(data=kaarten).T\n",
    "    df2 = pd.DataFrame(data=labelslist,columns=columnslabels)\n",
    "    df3 = pd.merge(df1,df2,on='cardid', how='left')\n",
    "    df4 = pd.DataFrame(data=memberslist,columns=columnsmembers)\n",
    "    df5 = pd.merge(df3,df4,on='cardid', how='left')\n",
    "    df5.to_excel('alldata.xlsx')\n",
    "else:\n",
    "    columnsmembers = ['cardid','member']\n",
    "    df1 = pd.DataFrame(data=kaarten).T\n",
    "    df2 = pd.DataFrame(data=memberslist,columns=columnsmembers)\n",
    "    df3 = pd.merge(df1,df2,on='cardid', how='left')\n",
    "    df3.to_excel('alldata.xlsx')\n",
    "    "
   ]
  },
  {
   "cell_type": "code",
   "execution_count": null,
   "metadata": {},
   "outputs": [],
   "source": [
    "df = pd.DataFrame(data=datesdict).T\n",
    "df.to_excel('dates.xlsx')"
   ]
  },
  {
   "cell_type": "code",
   "execution_count": null,
   "metadata": {},
   "outputs": [],
   "source": [
    "fromaddr = email\n",
    "msg = MIMEMultipart() \n",
    "msg['From'] = fromaddr \n",
    "msg['To'] = toaddr \n",
    "msg['Subject'] = subj\n",
    "body = \" \"\n",
    "msg.attach(MIMEText(body, 'plain')) \n",
    "filename_alldata = \"alldata.xlsx\"\n",
    "attachment_alldata = open(\"./alldata.xlsx\", \"rb\") \n",
    "filename_dates = \"dates.xlsx\"\n",
    "attachment_dates = open(\"./dates.xlsx\", \"rb\") \n",
    "\n",
    "p = MIMEBase('application', 'octet-stream') \n",
    "p.set_payload((attachment_alldata).read()) \n",
    "encoders.encode_base64(p) \n",
    "p.add_header('Content-Disposition', \"attachment; filename= %s\" % filename_alldata)\n",
    "msg.attach(p) \n",
    "\n",
    "q = MIMEBase('application', 'octet-stream') \n",
    "q.set_payload((attachment_dates).read()) \n",
    "encoders.encode_base64(q) \n",
    "q.add_header('Content-Disposition', \"attachment; filename= %s\" % filename_dates)\n",
    "msg.attach(q)\n",
    "s = smtplib.SMTP('smtp.gmail.com', 587) \n",
    "s.starttls() \n",
    "s.login(fromaddr, password) \n",
    "text = msg.as_string() \n",
    "s.sendmail(fromaddr, toaddr, text)\n",
    "s.quit() \n"
   ]
  }
 ],
 "metadata": {
  "kernelspec": {
   "display_name": "trello",
   "language": "python",
   "name": "trello"
  },
  "language_info": {
   "codemirror_mode": {
    "name": "ipython",
    "version": 3
   },
   "file_extension": ".py",
   "mimetype": "text/x-python",
   "name": "python",
   "nbconvert_exporter": "python",
   "pygments_lexer": "ipython3",
   "version": "3.8.1"
  }
 },
 "nbformat": 4,
 "nbformat_minor": 2
}
