{
 "cells": [
  {
   "cell_type": "code",
   "execution_count": 1,
   "metadata": {},
   "outputs": [],
   "source": [
    "exec(open(\"./jsonparse.py\").read())"
   ]
  },
  {
   "cell_type": "code",
   "execution_count": 2,
   "metadata": {},
   "outputs": [],
   "source": [
    "def actions_card(idofcard):\n",
    "    objectname = json.loads(json.dumps(requests.get(trello_base_url+\"cards/\"+idofcard+\"/actions?actions_limit=500&filter=updateCard,createCard,deleteCard&\"+keys).json()))\n",
    "    return objectname\n"
   ]
  },
  {
   "cell_type": "code",
   "execution_count": 3,
   "metadata": {},
   "outputs": [],
   "source": [
    "for i,j in kaarten.items():\n",
    "    j['actions'] = actions_card(i)"
   ]
  },
  {
   "cell_type": "code",
   "execution_count": 4,
   "metadata": {},
   "outputs": [],
   "source": [
    "for i,j in kaarten.items():\n",
    "    j['movements'] = {}\n",
    "    for k in j['actions']:\n",
    "        try:\n",
    "            j['movements'][k['id']] = {'listBefore': k['data']['listBefore'],\n",
    "                                       'listAfter': k['data']['listAfter'],\n",
    "                                       'datum': k['date']\n",
    "                                      }\n",
    "\n",
    "        except:\n",
    "            pass"
   ]
  },
  {
   "cell_type": "code",
   "execution_count": 5,
   "metadata": {},
   "outputs": [],
   "source": [
    "for i,j in kaarten.items():\n",
    "    j['datestarted'] = None\n",
    "    j['datedone'] = None\n",
    "    if j['movements'] != {}:\n",
    "        for k,l in j['movements'].items():\n",
    "            tmp = []\n",
    "            tmp2 = []\n",
    "            if l['listAfter']['name'] in lijstendoing:\n",
    "                if l['listBefore']['name'] not in lijstendoing:\n",
    "                    tmp.append(datetime.strptime(l['datum'][0:19],'%Y-%m-%dT%H:%M:%S'))\n",
    "                    if datetime.strptime(l['datum'][0:19],'%Y-%m-%dT%H:%M:%S') == min(tmp):\n",
    "                        j['datestarted'] = min(tmp)\n",
    "            if l['listAfter']['name'] in lijstendone:\n",
    "                if j['list'] in lijstendone:\n",
    "                    tmp2.append(datetime.strptime(l['datum'][0:19],'%Y-%m-%dT%H:%M:%S'))\n",
    "                    if datetime.strptime(l['datum'][0:19],'%Y-%m-%dT%H:%M:%S') == max(tmp2):\n",
    "                        j['datedone'] = max(tmp2)\n",
    "for i,j in kaarten.items():\n",
    "    if j['datestarted'] == None:\n",
    "        if j['status'] == 'Doing':\n",
    "            j['datestarted'] = j['created']\n",
    "        elif j['status'] == 'Done':\n",
    "            j['datestarted'] = j['created']\n",
    "for i,j in kaarten.items():\n",
    "    if j['status'] == 'Done':\n",
    "        try:\n",
    "            delta = j['datedone'] - j['datestarted']\n",
    "            j['leadtime'] = delta.days\n",
    "        except:\n",
    "            j['leadtime'] = None\n",
    "    else: j['leadtime'] = None"
   ]
  },
  {
   "cell_type": "code",
   "execution_count": 6,
   "metadata": {},
   "outputs": [],
   "source": [
    "for i,j in kaarten.items():\n",
    "    del j['actions']\n",
    "    del j['movements']"
   ]
  },
  {
   "cell_type": "code",
   "execution_count": 7,
   "metadata": {},
   "outputs": [],
   "source": [
    "datelist = pd.date_range(end = pd.datetime.today(), periods = 200).to_pydatetime().tolist()\n",
    "datesdict = {}\n",
    "for i in datelist:\n",
    "    datesdict[str(i.date())]= {}"
   ]
  },
  {
   "cell_type": "code",
   "execution_count": 8,
   "metadata": {},
   "outputs": [],
   "source": [
    "now = datetime.now().date()\n",
    "for i,j in datesdict.items():\n",
    "    datekey = datetime.strptime(i,'%Y-%m-%d').date()\n",
    "    j['To do'] = 0\n",
    "    j['Doing'] = 0\n",
    "    j['Done'] = 0\n",
    "    for k,l in kaarten.items():\n",
    "        if l['created'].date() <= datekey <= now:\n",
    "\n",
    "            j['To do'] +=1\n",
    "\n",
    "        if l['datestarted'] != None:\n",
    "            if l['datestarted'].date() <= datekey:\n",
    "                j['To do'] -=1\n",
    "                j['Doing'] +=1\n",
    "        if l['datedone'] != None:\n",
    "            if l['datedone'].date() <= datekey:\n",
    "                j['Doing'] -= 1\n",
    "                j['Done'] += 1"
   ]
  },
  {
   "cell_type": "code",
   "execution_count": 9,
   "metadata": {},
   "outputs": [],
   "source": [
    "in_out = {}\n",
    "for i in datelist:\n",
    "    in_out[str(i.date())]= {}\n",
    "for i,j in in_out.items():\n",
    "    j['In'] = 0\n",
    "    j['Out'] = 0\n",
    "    for k,l in kaarten.items():\n",
    "        for m,n in l.items():\n",
    "            x = 0\n",
    "            y = 0\n",
    "            if m=='created':\n",
    "                if i==str(n)[0:10]:\n",
    "                    x += 1\n",
    "                    j['In'] += 1\n",
    "            if m=='datedone':\n",
    "                if i==str(n)[0:10]:\n",
    "                    y += 1\n",
    "                    j['Out'] += 1\n",
    "for i,j in in_out.items():\n",
    "    i = datetime.strptime(i,'%Y-%m-%d')"
   ]
  },
  {
   "cell_type": "code",
   "execution_count": 10,
   "metadata": {},
   "outputs": [],
   "source": [
    "for i,j in datesdict.items():\n",
    "    for k,l in in_out.items():\n",
    "        if i==k:\n",
    "            j['In'] = l['In']\n",
    "            j['Out'] = l['Out']"
   ]
  }
 ],
 "metadata": {
  "kernelspec": {
   "display_name": "trello",
   "language": "python",
   "name": "trello"
  },
  "language_info": {
   "codemirror_mode": {
    "name": "ipython",
    "version": 3
   },
   "file_extension": ".py",
   "mimetype": "text/x-python",
   "name": "python",
   "nbconvert_exporter": "python",
   "pygments_lexer": "ipython3",
   "version": "3.8.1"
  }
 },
 "nbformat": 4,
 "nbformat_minor": 2
}
