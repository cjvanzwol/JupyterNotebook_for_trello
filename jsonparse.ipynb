{
 "cells": [
  {
   "cell_type": "markdown",
   "metadata": {},
   "source": [
    "### Import libraries"
   ]
  },
  {
   "cell_type": "code",
   "execution_count": null,
   "metadata": {},
   "outputs": [],
   "source": [
    "import requests,json,os\n",
    "from datetime import date,datetime"
   ]
  },
  {
   "cell_type": "markdown",
   "metadata": {},
   "source": [
    "### Load configuration file"
   ]
  },
  {
   "cell_type": "code",
   "execution_count": null,
   "metadata": {},
   "outputs": [],
   "source": [
    "with open('configuration.txt') as json_file:\n",
    "    config = json.load(json_file)\n",
    "with open('credentials.txt') as json_file:\n",
    "    credentials = json.load(json_file)\n",
    "        "
   ]
  },
  {
   "cell_type": "markdown",
   "metadata": {},
   "source": [
    "### Create URLs"
   ]
  },
  {
   "cell_type": "code",
   "execution_count": null,
   "metadata": {},
   "outputs": [],
   "source": [
    "keys = \"key=\"+credentials.get('api_key')+\"&token=\"+credentials.get('api_token')\n",
    "trello_base_url = \"https://api.trello.com/1/\"\n",
    "board_url = trello_base_url+\"boards/\"+config.get('boardid')\n",
    "url_cards = board_url+\"/cards?attachments=true&customFieldItems=true&filter=all&\"+keys\n",
    "url_lists = board_url+\"/lists?\"+keys\n",
    "url_customfields = board_url+\"/customFields?\"+keys\n",
    "url_labels = board_url+\"/labels?\"+keys\n",
    "url_members = board_url+\"/members?\"+keys\n"
   ]
  },
  {
   "cell_type": "markdown",
   "metadata": {},
   "source": [
    "### Create object for statuses (WIP)"
   ]
  },
  {
   "cell_type": "code",
   "execution_count": null,
   "metadata": {},
   "outputs": [],
   "source": [
    "statussen = ['Nog starten','Blocked','Doing','Done']"
   ]
  },
  {
   "cell_type": "markdown",
   "metadata": {},
   "source": [
    "### Parse the JSON objects to Python objects"
   ]
  },
  {
   "cell_type": "code",
   "execution_count": null,
   "metadata": {},
   "outputs": [],
   "source": [
    "cards = json.loads(json.dumps(requests.get(url_cards).json()))\n",
    "lists = json.loads(json.dumps(requests.get(url_lists).json()))\n",
    "customfields = json.loads(json.dumps(requests.get(url_customfields).json()))\n",
    "labels = json.loads(json.dumps(requests.get(url_labels).json()))\n",
    "members = json.loads(json.dumps(requests.get(url_members).json()))"
   ]
  },
  {
   "cell_type": "markdown",
   "metadata": {},
   "source": [
    "### Create dictionary for custom fields"
   ]
  },
  {
   "cell_type": "code",
   "execution_count": null,
   "metadata": {},
   "outputs": [],
   "source": [
    "customfields_dict = {}\n",
    "for i in customfields:\n",
    "    customfields_dict[i['id']] = {}\n",
    "    if i['type'] == 'date':\n",
    "        customfields_dict[i['id']][i['name']] = {}\n",
    "        customfields_dict[i['id']][i['name']]['options'] = {'id': 'date'}\n",
    "       \n",
    "\n",
    "    else:\n",
    "        customfields_dict[i['id']][i['name']] = {}\n",
    "        customfields_dict[i['id']][i['name']]['options'] = {}\n",
    "        for j in i['options']:\n",
    "            customfields_dict[i['id']][i['name']]['options'][j['id']] =  j['value']['text']\n",
    "\n",
    "customfieldsmetdate = []\n",
    "for i,j in customfields_dict.items():\n",
    "        for k,l in j.items():\n",
    "            try:\n",
    "                if l['options']['id'] == 'date':\n",
    "                    customfieldsmetdate.append(i)\n",
    "            except:\n",
    "                pass"
   ]
  },
  {
   "cell_type": "markdown",
   "metadata": {},
   "source": [
    "### Create object with all chosen lists"
   ]
  },
  {
   "cell_type": "code",
   "execution_count": null,
   "metadata": {},
   "outputs": [],
   "source": [
    "chosenlists = []\n",
    "for i in config.get('notstarted'):\n",
    "    chosenlists.append(i)\n",
    "chosenlists.extend(config.get('blocked'))\n",
    "chosenlists.extend(config.get('doing'))\n",
    "chosenlists.extend(config.get('done'))"
   ]
  },
  {
   "cell_type": "markdown",
   "metadata": {},
   "source": [
    "### Create function to determine datetime of the card"
   ]
  },
  {
   "cell_type": "code",
   "execution_count": null,
   "metadata": {},
   "outputs": [],
   "source": [
    "def idtodate(cardid):\n",
    "    hex = cardid[0:8]\n",
    "    timestamp = int(hex,16)\n",
    "    timedate = datetime.fromtimestamp(timestamp)\n",
    "    return timedate"
   ]
  },
  {
   "cell_type": "markdown",
   "metadata": {},
   "source": [
    "### Create dictionary object for all cards"
   ]
  },
  {
   "cell_type": "code",
   "execution_count": null,
   "metadata": {},
   "outputs": [],
   "source": [
    "kaarten = {}\n",
    "for i in cards:\n",
    "    kaarten[i['id']] = {'name': i['name'],\n",
    "                        'cardid': i['id'],\n",
    "                        'idlist': i['idList'],\n",
    "                        'customfields': i['customFieldItems'],\n",
    "                        'labels': {},\n",
    "                        'members': {},\n",
    "                        'sjabloon': i['isTemplate'],\n",
    "                        'due': None,\n",
    "                        'closed': i['closed'],\n",
    "                        'attachments': {},\n",
    "                        'shortUrl': i['shortUrl']\n",
    "                       }\n",
    "    for j in i['idMembers']:\n",
    "\n",
    "        for k in members:\n",
    "\n",
    "            if j == k['id']:\n",
    "                    kaarten[i['id']]['members'][k['id']] = k['fullName']\n",
    "    if i['due'] != None:\n",
    "        kaarten[i['id']]['due'] = datetime.strptime(i['due'][0:19],'%Y-%m-%dT%H:%M:%S')\n",
    "    for j in i['labels']:\n",
    "        kaarten[i['id']]['labels'][j['id']] = j['name']\n",
    "    for j in i['attachments']:\n",
    "        try:\n",
    "            if j['url'][0:21]== 'https://trello.com/c/':\n",
    "                kaarten[i['id']]['attachments'][j['url'][21:29]] = None\n",
    "        except:\n",
    "            pass\n",
    "                    \n",
    "if customfields_dict != {}:\n",
    "    for i,j in customfields_dict.items():\n",
    "        for k,l in j.items():\n",
    "            for m,n in kaarten.items():\n",
    "                n[k] = None\n",
    "\n",
    "    for i,j in kaarten.items():\n",
    "        for k in j['customfields']:\n",
    "            if k['idCustomField'] in customfieldsmetdate:\n",
    "                for l,m in customfields_dict.items():\n",
    "                    for n,o in m.items():\n",
    "                        if k['idCustomField'] == l:\n",
    "                            j[n] = datetime.strptime(k['value']['date'][0:19],'%Y-%m-%dT%H:%M:%S')\n",
    "            else:\n",
    "                for l,m in customfields_dict.items():\n",
    "                    for n,o in m.items():\n",
    "                        if k['idCustomField'] == l:\n",
    "                            for p,q in o.items():\n",
    "                                for r,s in q.items():\n",
    "                                    if k['idValue'] == r:\n",
    "                                        j[n] = s     \n",
    "\n",
    "\n",
    "\n"
   ]
  },
  {
   "cell_type": "markdown",
   "metadata": {},
   "source": [
    "### Add status of the card"
   ]
  },
  {
   "cell_type": "code",
   "execution_count": null,
   "metadata": {},
   "outputs": [],
   "source": [
    "for i,j in kaarten.items():\n",
    "    date = idtodate(i)\n",
    "    j['created'] = date\n",
    "    for k in lists:\n",
    "        if j['idlist'] == k['id']: j['list'] = k['name'] \n",
    "    if j['list'] in config.get('notstarted'):\n",
    "        j['status'] = 'Not started'\n",
    "    elif j['list'] in config.get('doing'):\n",
    "        j['status'] = 'Doing'\n",
    "    elif j['list'] in config.get('blocked'):\n",
    "        j['status'] = 'Blocked'\n",
    "    elif j['list'] in config.get('done'):\n",
    "        j['status'] = 'Done'\n",
    "    del j['customfields']\n",
    "    del j['idlist']\n",
    "    \n",
    "# Give the status Archived if the card is closed and not done\n",
    "for i,j in kaarten.items():\n",
    "    if j['closed'] == True and j['status'] != 'Done':\n",
    "        j['status'] = 'Archived'"
   ]
  },
  {
   "cell_type": "markdown",
   "metadata": {},
   "source": [
    "### Delete unusable cards"
   ]
  },
  {
   "cell_type": "code",
   "execution_count": null,
   "metadata": {},
   "outputs": [],
   "source": [
    "# Create object with lists that are not chosen\n",
    "liststodelete = []\n",
    "for i in lists:\n",
    "    if i['name'] not in chosenlists:\n",
    "        liststodelete.append(i['name'])\n",
    "\n",
    "# Create object with all cards that should be deleted (ignored)\n",
    "cardstodelete = []\n",
    "for i,j in kaarten.items():\n",
    "    if j['sjabloon'] == True:\n",
    "        cardstodelete.append(i)\n",
    "    elif j['list'] in liststodelete:\n",
    "        cardstodelete.append(i)\n",
    "\n",
    "# Delete the cards in the object 'cardstodelete'\n",
    "for i in cardstodelete:\n",
    "    if i in kaarten:\n",
    "        del kaarten[i]\n",
    "        \n"
   ]
  },
  {
   "cell_type": "code",
   "execution_count": null,
   "metadata": {},
   "outputs": [],
   "source": []
  }
 ],
 "metadata": {
  "kernelspec": {
   "display_name": "trello",
   "language": "python",
   "name": "trello"
  },
  "language_info": {
   "codemirror_mode": {
    "name": "ipython",
    "version": 3
   },
   "file_extension": ".py",
   "mimetype": "text/x-python",
   "name": "python",
   "nbconvert_exporter": "python",
   "pygments_lexer": "ipython3",
   "version": "3.8.1"
  }
 },
 "nbformat": 4,
 "nbformat_minor": 2
}
