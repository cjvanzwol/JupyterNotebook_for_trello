{
 "cells": [
  {
   "cell_type": "code",
   "execution_count": null,
   "metadata": {},
   "outputs": [],
   "source": [
    "exec(open(\"./cardsperdate.py\").read())"
   ]
  },
  {
   "cell_type": "code",
   "execution_count": null,
   "metadata": {},
   "outputs": [],
   "source": [
    "trellobijlagen = {}\n",
    "x = 0\n",
    "for i in cards:\n",
    "    for j in i['attachments']:\n",
    "        try:\n",
    "            if j['url'][0:21]== 'https://trello.com/c/':\n",
    "                shorturl = j['url'][21:29]\n",
    "                jsonurl = (j['url'][0:29] + \".json?\"+keys)\n",
    "                trellobijlagen[x] = json.loads(json.dumps(requests.get(jsonurl).json()))\n",
    "                x += 1\n",
    "                    \n",
    "        except:\n",
    "            pass\n",
    "        \n"
   ]
  },
  {
   "cell_type": "code",
   "execution_count": null,
   "metadata": {},
   "outputs": [],
   "source": [
    "for i,j in kaarten.items():\n",
    "    if j['attachments'] != {}:\n",
    "        j['trelloattachments'] = {}\n",
    "        for k in j['attachments']:\n",
    "            for l,m in trellobijlagen.items():\n",
    "                for n,o in m.items():\n",
    "                    if n == 'shortLink':\n",
    "                        if k == o:\n",
    "                            j['trelloattachments'][m['id']] = {'name': m['name']}\n",
    "    else:\n",
    "        j['trelloattachments'] = None\n",
    "        \n",
    "        "
   ]
  }
 ],
 "metadata": {
  "kernelspec": {
   "display_name": "trello",
   "language": "python",
   "name": "trello"
  },
  "language_info": {
   "codemirror_mode": {
    "name": "ipython",
    "version": 3
   },
   "file_extension": ".py",
   "mimetype": "text/x-python",
   "name": "python",
   "nbconvert_exporter": "python",
   "pygments_lexer": "ipython3",
   "version": "3.8.1"
  }
 },
 "nbformat": 4,
 "nbformat_minor": 2
}
