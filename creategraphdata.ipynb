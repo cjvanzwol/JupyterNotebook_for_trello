{
 "cells": [
  {
   "cell_type": "code",
   "execution_count": null,
   "metadata": {},
   "outputs": [],
   "source": [
    "import json,os"
   ]
  },
  {
   "cell_type": "markdown",
   "metadata": {},
   "source": [
    "### Try to open JSON from ./data folder"
   ]
  },
  {
   "cell_type": "code",
   "execution_count": null,
   "metadata": {},
   "outputs": [],
   "source": [
    "kaartenjson = './data/kaarten.json'\n",
    "timelinejson = './data/timeline.json'\n",
    "def createfolders():\n",
    "    try:\n",
    "        temp = os.stat('./data')\n",
    "    except:\n",
    "        os.mkdir('./data')\n",
    "if os.path.exists(kaartenjson):\n",
    "    with open(kaartenjson) as json_file:\n",
    "        cards = json.load(json_file)\n",
    "else:\n",
    "    exec(open(\"./savetrellotojson.py\").read())\n",
    "    with open(kaartenjson) as json_file:\n",
    "        cards = json.load(json_file)\n",
    "    with open(timelinejson) as json_file:\n",
    "        timeline = json.load(json_file)\n"
   ]
  },
  {
   "cell_type": "markdown",
   "metadata": {},
   "source": [
    "### Check if data is no more than 1 day old and update if necessary"
   ]
  },
  {
   "cell_type": "code",
   "execution_count": null,
   "metadata": {},
   "outputs": [],
   "source": [
    "from datetime import date,datetime,timedelta\n",
    "with open('./data/date.txt', 'r') as f2:\n",
    "    date = datetime.strptime(f2.read(),'%Y-%m-%d, %H:%M:%S')\n",
    "\n",
    "if date < datetime.now() - timedelta(hours = 1):\n",
    "    exec(open(\"./savetrellotojson.py\").read())\n",
    "    with open(kaartenjson) as json_file:\n",
    "        cards = json.load(json_file)\n",
    "    with open(timelinejson) as json_file:\n",
    "        timeline = json.load(json_file)   "
   ]
  },
  {
   "cell_type": "markdown",
   "metadata": {},
   "source": [
    "### Convert JSON datetime to python datetime"
   ]
  },
  {
   "cell_type": "code",
   "execution_count": null,
   "metadata": {},
   "outputs": [],
   "source": [
    "kaarten = {}\n",
    "for i,j in cards.items():\n",
    "    kaarten[i] = {}\n",
    "    for k,l in j.items():\n",
    "        try:\n",
    "            if l[:5] == 'date,':\n",
    "                kaarten[i][k] = datetime.strptime(l[6:], '%Y-%m-%d, %H:%M:%S')\n",
    "            else: \n",
    "                kaarten[i][k] = l\n",
    "        except:\n",
    "            kaarten[i][k] = l"
   ]
  },
  {
   "cell_type": "markdown",
   "metadata": {},
   "source": [
    "### Load every .json file in ./data folder using above function"
   ]
  },
  {
   "cell_type": "code",
   "execution_count": null,
   "metadata": {},
   "outputs": [],
   "source": [
    "for i in os.listdir('./data'):\n",
    "    if i[-5:] == '.json':\n",
    "        with open('./data/'+i) as json_file:\n",
    "            exec(\"%s = json.load(json_file)\" % (i[:-5]))\n"
   ]
  },
  {
   "cell_type": "code",
   "execution_count": null,
   "metadata": {},
   "outputs": [],
   "source": [
    "for i in chosenlists:\n",
    "    listname = i.replace(\" \",\"_\")\n",
    "    exec(\"%s = []\" % (listname))"
   ]
  },
  {
   "cell_type": "code",
   "execution_count": null,
   "metadata": {},
   "outputs": [],
   "source": [
    "tmp = []\n",
    "for i in statuses:\n",
    "    tmp.append(i[1].replace(' ','_'))\n",
    "    statussen = list(dict.fromkeys(tmp))\n",
    "for i in statussen:\n",
    "    name = 'Status' +i.replace(\" \",\"_\")\n",
    "    exec(\"%s = []\" % (name))"
   ]
  },
  {
   "cell_type": "code",
   "execution_count": null,
   "metadata": {},
   "outputs": [],
   "source": [
    "x = []\n",
    "for i,j in timeline.items():\n",
    "    x.append(i)\n",
    "    for k,l in j.items():\n",
    "        if k in chosenlists:\n",
    "            for m in chosenlists:\n",
    "                if m == k:\n",
    "                    exec(\"%s.append(l)\" % (k.replace(\" \",\"_\")))\n",
    "        try:\n",
    "            if k[:6] == 'Status':\n",
    "                if k[7:] in dict(statuses).values():\n",
    "                    variable = k.replace(' ','',1).replace(' ','_')\n",
    "                    exec(\"%s.append(l)\" % (variable))\n",
    "        except:\n",
    "            pass"
   ]
  }
 ],
 "metadata": {
  "kernelspec": {
   "display_name": "trello",
   "language": "python",
   "name": "trello"
  },
  "language_info": {
   "codemirror_mode": {
    "name": "ipython",
    "version": 3
   },
   "file_extension": ".py",
   "mimetype": "text/x-python",
   "name": "python",
   "nbconvert_exporter": "python",
   "pygments_lexer": "ipython3",
   "version": "3.8.1"
  }
 },
 "nbformat": 4,
 "nbformat_minor": 2
}
