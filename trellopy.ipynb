{
 "cells": [
  {
   "cell_type": "code",
   "execution_count": null,
   "metadata": {},
   "outputs": [],
   "source": [
    "%run ./jsonparse.ipynb"
   ]
  },
  {
   "cell_type": "code",
   "execution_count": null,
   "metadata": {},
   "outputs": [],
   "source": [
    "def excelalldata():\n",
    "    import pandas as pd\n",
    "    labelslist = []\n",
    "    for i,j in kaarten.items():\n",
    "        for k,l in j.items():\n",
    "            if k=='labels' and l != {}:\n",
    "                for m,n in l.items():\n",
    "                    labelslist.append((i,n))\n",
    "    memberslist = []\n",
    "    for i,j in kaarten.items():\n",
    "        for k,l in j.items():\n",
    "            if k=='members' and l !={}:\n",
    "                for m,n in l.items():\n",
    "                    memberslist.append((i,n))\n",
    "    if labelslist != []:\n",
    "        columnslabels = ['cardid','label']\n",
    "        columnsmembers = ['cardid','member']\n",
    "        df1 = pd.DataFrame(data=kaarten).T\n",
    "        df2 = pd.DataFrame(data=labelslist,columns=columnslabels)\n",
    "        df3 = pd.merge(df1,df2,on='cardid', how='left')\n",
    "        df4 = pd.DataFrame(data=memberslist,columns=columnsmembers)\n",
    "        df5 = pd.merge(df3,df4,on='cardid', how='left')\n",
    "        df5.to_excel(config.get('excelfile'))\n",
    "    else:\n",
    "        columnsmembers = ['cardid','member']\n",
    "        df1 = pd.DataFrame(data=kaarten).T\n",
    "        df2 = pd.DataFrame(data=memberslist,columns=columnsmembers)\n",
    "        df3 = pd.merge(df1,df2,on='cardid', how='left')\n",
    "        df3.to_excel(config.get('excelfile'))        \n",
    "\n",
    "def exceltimeline():\n",
    "    print('exceltimeline')\n",
    "\n",
    "\n",
    "def gspreadalldata():\n",
    "    print('gspreadalldata')\n",
    "\n",
    "\n",
    "\n",
    "def gspreadtimeline():\n",
    "    print('gspreadtimeline')\n",
    "\n",
    "\n",
    "def cleandonedicts():\n",
    "    print('cleandonedicts')\n",
    "    \n"
   ]
  },
  {
   "cell_type": "code",
   "execution_count": null,
   "metadata": {},
   "outputs": [],
   "source": [
    "if config['scriptoptions']['excelalldata'] == True:\n",
    "    excelalldata()\n",
    "if config['scriptoptions']['exceltimeline'] == True:\n",
    "    exceltimeline()\n",
    "if config['scriptoptions']['gspreadalldata'] == True:\n",
    "    gspreadalldata()\n",
    "if config['scriptoptions']['gspreadtimeline'] == True:\n",
    "    gspreadtimeline()\n",
    "if config['scriptoptions']['cleandonelists'] == True:\n",
    "    cleandonelists()"
   ]
  },
  {
   "cell_type": "code",
   "execution_count": null,
   "metadata": {},
   "outputs": [],
   "source": [
    "for i,j in config['scriptoptions'].items():\n",
    "    print(i,j)"
   ]
  }
 ],
 "metadata": {
  "kernelspec": {
   "display_name": "trello",
   "language": "python",
   "name": "trello"
  },
  "language_info": {
   "codemirror_mode": {
    "name": "ipython",
    "version": 3
   },
   "file_extension": ".py",
   "mimetype": "text/x-python",
   "name": "python",
   "nbconvert_exporter": "python",
   "pygments_lexer": "ipython3",
   "version": "3.8.1"
  }
 },
 "nbformat": 4,
 "nbformat_minor": 2
}
