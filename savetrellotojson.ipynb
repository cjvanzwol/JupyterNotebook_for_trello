{
 "cells": [
  {
   "cell_type": "markdown",
   "metadata": {},
   "source": [
    "## Import libraries"
   ]
  },
  {
   "cell_type": "code",
   "execution_count": null,
   "metadata": {},
   "outputs": [],
   "source": [
    "import requests,json,os, pprint,requests\n",
    "import pandas as pd\n",
    "from datetime import date,datetime,timedelta"
   ]
  },
  {
   "cell_type": "markdown",
   "metadata": {},
   "source": [
    "### Set configuration files variables"
   ]
  },
  {
   "cell_type": "code",
   "execution_count": null,
   "metadata": {},
   "outputs": [],
   "source": [
    "configurationfile = './configuration/configuration.txt'\n",
    "credentialsfile = './configuration/credentials.txt'"
   ]
  },
  {
   "cell_type": "markdown",
   "metadata": {},
   "source": [
    "### Create folders if they don't exist"
   ]
  },
  {
   "cell_type": "code",
   "execution_count": null,
   "metadata": {},
   "outputs": [],
   "source": [
    "def createfolders():\n",
    "    try:\n",
    "        temp = os.stat('./configuration')\n",
    "    except:\n",
    "        os.mkdir('./configuration')\n",
    "    try:\n",
    "        temp = os.stat('./data')\n",
    "    except:\n",
    "        os.mkdir('./data')\n",
    "createfolders()"
   ]
  },
  {
   "cell_type": "markdown",
   "metadata": {},
   "source": [
    "### Open all options"
   ]
  },
  {
   "cell_type": "code",
   "execution_count": null,
   "metadata": {},
   "outputs": [],
   "source": [
    "with open('credentialsoptions.txt') as json_file:\n",
    "    credentialsoptions = json.load(json_file)\n",
    "with open('configoptions.txt') as json_file:\n",
    "    configoptions = json.load(json_file)"
   ]
  },
  {
   "cell_type": "markdown",
   "metadata": {},
   "source": [
    "### Load configuration and credentials"
   ]
  },
  {
   "cell_type": "code",
   "execution_count": null,
   "metadata": {},
   "outputs": [],
   "source": [
    "def loadconfig():\n",
    "    global configfound\n",
    "    global credentialsfound\n",
    "    global config\n",
    "    global credentials\n",
    "    if os.path.exists(configurationfile):\n",
    "        with open(configurationfile) as json_file:\n",
    "            config = json.load(json_file)\n",
    "        configfound = True\n",
    "    else:\n",
    "        config = {}\n",
    "        for i,j in configoptions.items():\n",
    "            config[i] = j\n",
    "            configfound = False\n",
    "\n",
    "    if os.path.exists(credentialsfile):\n",
    "        with open(credentialsfile) as json_file:\n",
    "            credentials = json.load(json_file)\n",
    "        credentialsfound = True\n",
    "    else:\n",
    "        credentials = {}\n",
    "        for i,j in credentialsoptions.items():\n",
    "            credentials[i] = j\n",
    "        credentialsfound=False\n",
    "loadconfig()"
   ]
  },
  {
   "cell_type": "markdown",
   "metadata": {},
   "source": [
    "### Create function to convert config file"
   ]
  },
  {
   "cell_type": "code",
   "execution_count": null,
   "metadata": {},
   "outputs": [],
   "source": [
    "def updateconfig(file,olddict,newdict):\n",
    "    ans = input('Old or no ' + file[16:] + ' found. Update now? (Y/N)')\n",
    "    if ans.upper() != 'N':\n",
    "        print('This is your old config:')\n",
    "        pprint.pprint(olddict)\n",
    "    newconfig = {}\n",
    "    newconfig['Version'] = newdict['Version']\n",
    "    newconfig['__Comment'] = newdict['__Comment']\n",
    "    keystoupdate = []\n",
    "    for i,j in olddict.items():\n",
    "        if type(j) == dict:\n",
    "            for k,l in j.items():\n",
    "                if l == True:\n",
    "                    newconfig[i][k] = True\n",
    "                else:\n",
    "                    keystoupdate.append(k)\n",
    "        elif type(j) == list:\n",
    "            if j == []:\n",
    "                keystoupdate.append(i)\n",
    "            else:\n",
    "                newconfig[i] = j\n",
    "        else:\n",
    "            if j != '':\n",
    "                newconfig[i] = j\n",
    "            else:\n",
    "                keystoupdate.append(i)\n",
    "    for i,j in newdict.items():\n",
    "        if type(j) == list:\n",
    "            if i in keystoupdate:\n",
    "                newconfig[i] = []\n",
    "                value = input('Give the number of lists to add for the status '+i)\n",
    "                if value != '0':\n",
    "                    try:\n",
    "                        x = int(value)\n",
    "                    except:\n",
    "                        x = int(input('Not an integer. Please try again!'))\n",
    "                    count = 1\n",
    "                    while count <= x:\n",
    "                        newconfig[i].append(input('Give the name of one list each time for the status ' + i))\n",
    "                        count += 1\n",
    "        elif type(j) == dict:\n",
    "            newconfig[i] = {}\n",
    "            for k,l in j.items():\n",
    "                if k in keystoupdate:\n",
    "                    answer = input(k + ' (Y/N)').upper()\n",
    "                    if answer == 'Y':\n",
    "                        newconfig[i][k] = True\n",
    "                    else:\n",
    "                        newconfig[i][k] = False\n",
    "        else:\n",
    "            if i in keystoupdate:\n",
    "                newconfig[i] = input(i)\n",
    "    with open(file, 'w') as outfile:\n",
    "        json.dump(newconfig, outfile, indent=4, sort_keys=True)"
   ]
  },
  {
   "cell_type": "markdown",
   "metadata": {},
   "source": [
    "### Check which version of the configuration is loaded and ask to update it"
   ]
  },
  {
   "cell_type": "code",
   "execution_count": null,
   "metadata": {},
   "outputs": [],
   "source": [
    "try:\n",
    "    version = float(config['Version'])\n",
    "except:\n",
    "    version = 0.0\n",
    "if version == 0.0 or version < float(configoptions['Version']) or configfound == False:\n",
    "    updateconfig(configurationfile, config, configoptions)\n",
    "    loadconfig()\n",
    "try:\n",
    "    version = float(credentials['Version'])\n",
    "except:\n",
    "    version = 0.0\n",
    "if version == 0.0 or version < float(credentialsoptions['Version']) or credentialsfound == False:\n",
    "    updateconfig(credentialsfile,credentials, credentialsoptions)\n",
    "    loadconfig()"
   ]
  },
  {
   "cell_type": "markdown",
   "metadata": {},
   "source": [
    "### Create URLs"
   ]
  },
  {
   "cell_type": "code",
   "execution_count": null,
   "metadata": {},
   "outputs": [],
   "source": [
    "keys = \"key=\"+credentials.get('API key')+\"&token=\"+credentials.get('API token')\n",
    "trello_base_url = \"https://api.trello.com/1/\"\n",
    "board_url = trello_base_url+\"boards/\"+config.get('Board ID')\n",
    "url_cards = board_url+\"/cards?attachments=true&customFieldItems=true&filter=all&\"+keys\n",
    "url_lists = board_url+\"/lists?filter=all&\"+keys\n",
    "url_customfields = board_url+\"/customFields?\"+keys\n",
    "url_labels = board_url+\"/labels?\"+keys\n",
    "url_members = board_url+\"/members?\"+keys"
   ]
  },
  {
   "cell_type": "markdown",
   "metadata": {},
   "source": [
    "### Get the JSON objects and parse them"
   ]
  },
  {
   "cell_type": "code",
   "execution_count": null,
   "metadata": {},
   "outputs": [],
   "source": [
    "cards = json.loads(json.dumps(requests.get(url_cards).json()))\n",
    "lists = json.loads(json.dumps(requests.get(url_lists).json()))\n",
    "customfields = json.loads(json.dumps(requests.get(url_customfields).json()))\n",
    "labels = json.loads(json.dumps(requests.get(url_labels).json()))\n",
    "members = json.loads(json.dumps(requests.get(url_members).json()))"
   ]
  },
  {
   "cell_type": "markdown",
   "metadata": {},
   "source": [
    "### Create function to convert the JSON Time in string format to DateTime"
   ]
  },
  {
   "cell_type": "code",
   "execution_count": null,
   "metadata": {},
   "outputs": [],
   "source": [
    "def dateCalc(date):\n",
    "    newdate = datetime.strptime(date[0:19],'%Y-%m-%dT%H:%M:%S')\n",
    "    return newdate"
   ]
  },
  {
   "cell_type": "markdown",
   "metadata": {},
   "source": [
    "### Create dictionary for custom fields (if exists)"
   ]
  },
  {
   "cell_type": "code",
   "execution_count": null,
   "metadata": {},
   "outputs": [],
   "source": [
    "customfields_dict = {'date': {},'list': {}, 'text': {}, 'number': {}, 'checkbox': {}}\n",
    "for i in customfields:\n",
    "    customfields_dict[i['type']] = {}\n",
    "for i in customfields:\n",
    "    customfields_dict[i['type']][i['id']] = {}\n",
    "for i in customfields:\n",
    "    if i['type'] == 'list':\n",
    "        customfields_dict[i['type']][i['id']]['name'] = i['name']\n",
    "        customfields_dict['list'][i['id']]['options'] = {}\n",
    "        for j in i['options']:\n",
    "            customfields_dict['list'][i['id']]['options'][j['id']] = j['value'].get('text')\n",
    "    else:\n",
    "        customfields_dict[i['type']][i['id']]['name'] = i['name']\n",
    "\n"
   ]
  },
  {
   "cell_type": "markdown",
   "metadata": {},
   "source": [
    "## Create a list for all the chosen lists in the configuration"
   ]
  },
  {
   "cell_type": "code",
   "execution_count": null,
   "metadata": {},
   "outputs": [],
   "source": [
    "chosenlists = []\n",
    "for i in config.get('Not Started'):\n",
    "    chosenlists.append(i)\n",
    "chosenlists.extend(config.get('Blocked'))\n",
    "chosenlists.extend(config.get('Doing'))\n",
    "chosenlists.extend(config.get('Done'))\n",
    "if config['Script options']['Calculate hours'] == True:\n",
    "    chosenlists.append('Doorlopend')"
   ]
  },
  {
   "cell_type": "markdown",
   "metadata": {},
   "source": [
    "### Create function to get the hashed date from the card ID"
   ]
  },
  {
   "cell_type": "code",
   "execution_count": null,
   "metadata": {},
   "outputs": [],
   "source": [
    "def idtodate(cardid):\n",
    "    hex = cardid[0:8]\n",
    "    timestamp = int(hex,16)\n",
    "    timedate = datetime.fromtimestamp(timestamp)\n",
    "    return timedate\n"
   ]
  },
  {
   "cell_type": "markdown",
   "metadata": {},
   "source": [
    "### Create dictionary with all cards"
   ]
  },
  {
   "cell_type": "code",
   "execution_count": null,
   "metadata": {},
   "outputs": [],
   "source": [
    "kaarten = {}\n",
    "for i in cards:\n",
    "    kaarten[i['id']] = {'name': i['name'],\n",
    "                        'cardid': i['id'],\n",
    "                        'idlist': i['idList'],\n",
    "                        'customfields': i['customFieldItems'],\n",
    "                        'labels': {},\n",
    "                        'members': {},\n",
    "                        'sjabloon': i['isTemplate'],\n",
    "                        'due': None,\n",
    "                        'closed': i['closed'],\n",
    "                        'attachments': {},\n",
    "                        'shortUrl': i['shortUrl']\n",
    "                       }\n",
    "    for j in i['idMembers']:\n",
    "\n",
    "        for k in members:\n",
    "\n",
    "            if j == k['id']:\n",
    "                    kaarten[i['id']]['members'][k['id']] = k['fullName']\n",
    "    if i['due'] != None:\n",
    "        kaarten[i['id']]['due'] = dateCalc(i['due'])\n",
    "    for j in i['labels']:\n",
    "        kaarten[i['id']]['labels'][j['id']] = j['name']\n",
    "    for j in i['attachments']:\n",
    "        try:\n",
    "            if j['url'][0:21]== 'https://trello.com/c/':\n",
    "                kaarten[i['id']]['attachments'][j['url'][21:29]] = None\n",
    "        except:\n",
    "            pass"
   ]
  },
  {
   "cell_type": "markdown",
   "metadata": {},
   "source": [
    "### Add custom fields if they exist"
   ]
  },
  {
   "cell_type": "code",
   "execution_count": null,
   "metadata": {},
   "outputs": [],
   "source": [
    "if customfields_dict != {}:\n",
    "    for i,j in customfields_dict.items():\n",
    "        for k,l in j.items():\n",
    "            for m,n in kaarten.items():\n",
    "                n[l['name']] = None\n",
    "    for i,j in kaarten.items():\n",
    "        for k in j['customfields']:\n",
    "            if k['idCustomField'] in customfields_dict['list'].keys():\n",
    "                j[customfields_dict['list'][k['idCustomField']].get('name')] = customfields_dict['list'][k['idCustomField']]['options'].get(k['idValue'])\n",
    "            elif k['idCustomField'] in customfields_dict['checkbox'].keys():\n",
    "                if k['value']['checked'] == 'true':\n",
    "                    j[customfields_dict['checkbox'][k['idCustomField']].get('name')] = True\n",
    "                else:\n",
    "                    j[customfields_dict['checkbox'][k['idCustomField']].get('name')] = False\n",
    "            elif k['idCustomField'] in customfields_dict['date'].keys():\n",
    "                j[customfields_dict['date'][k['idCustomField']].get('name')] =  dateCalc(k['value'].get('date')) \n",
    "            else:\n",
    "                for key in k['value']:\n",
    "                    j[customfields_dict[key][k['idCustomField']].get('name')] = k['value'].get(key)\n"
   ]
  },
  {
   "cell_type": "markdown",
   "metadata": {},
   "source": [
    "### Add the statuses (Not started, Doing, Blocked and Done), based on the configuration"
   ]
  },
  {
   "cell_type": "code",
   "execution_count": null,
   "metadata": {},
   "outputs": [],
   "source": [
    "for i,j in kaarten.items():\n",
    "    date = idtodate(i)\n",
    "    j['created'] = date\n",
    "    for k in lists:\n",
    "        if j['idlist'] == k['id']: j['list'] = k['name']\n",
    "    if j['list'] in config.get('Not Started'):\n",
    "        j['status'] = 'Not Started'\n",
    "    elif j['list'] in config.get('Doing'):\n",
    "        j['status'] = 'Doing'\n",
    "    elif j['list'] in config.get('Blocked'):\n",
    "        j['status'] = 'Blocked'\n",
    "    elif j['list'] in config.get('Done'):\n",
    "        j['status'] = 'Done'\n",
    "    elif j['list'] in config.get('Always continuing'):\n",
    "        j['status'] = 'Always continuing'\n",
    "    else:\n",
    "        j['status'] = 'Archived'\n",
    "    del j['customfields']\n",
    "    del j['idlist']"
   ]
  },
  {
   "cell_type": "markdown",
   "metadata": {},
   "source": [
    "### Give the status Archived if the card is closed and not done"
   ]
  },
  {
   "cell_type": "code",
   "execution_count": null,
   "metadata": {},
   "outputs": [],
   "source": [
    "for i,j in kaarten.items():\n",
    "    if j['closed'] == True and j['status'] != 'Done':\n",
    "        j['status'] = 'Archived'"
   ]
  },
  {
   "cell_type": "markdown",
   "metadata": {},
   "source": [
    "### Create object with lists that are not chosen"
   ]
  },
  {
   "cell_type": "code",
   "execution_count": null,
   "metadata": {},
   "outputs": [],
   "source": [
    "liststodelete = []\n",
    "for i in lists:\n",
    "    if i['name'] not in chosenlists:\n",
    "        liststodelete.append(i['name'])"
   ]
  },
  {
   "cell_type": "markdown",
   "metadata": {},
   "source": [
    "### Create object with all cards that should be deleted (ignored)"
   ]
  },
  {
   "cell_type": "code",
   "execution_count": null,
   "metadata": {},
   "outputs": [],
   "source": [
    "cardstodelete = []\n",
    "for i,j in kaarten.items():\n",
    "    if j['sjabloon'] == True:\n",
    "        cardstodelete.append(i)\n",
    "    elif j['list'] in liststodelete:\n",
    "        cardstodelete.append(i)"
   ]
  },
  {
   "cell_type": "markdown",
   "metadata": {},
   "source": [
    "### Before deleting, create a dict for the hours calculation"
   ]
  },
  {
   "cell_type": "code",
   "execution_count": null,
   "metadata": {},
   "outputs": [],
   "source": [
    "hours = {}\n",
    "for i,j in kaarten.items():\n",
    "    if j['list'] == 'Uren':\n",
    "        hours[j['name']] = {config['Custom Field for Starting date']: j['Begindatum'], config['Custom Field for Ending date']: j['Einddatum'], config['Custom Field with hours per month']: j['Uren per maand']}"
   ]
  },
  {
   "cell_type": "markdown",
   "metadata": {},
   "source": [
    "### Delete the cards in the object 'cardstodelete'"
   ]
  },
  {
   "cell_type": "code",
   "execution_count": null,
   "metadata": {},
   "outputs": [],
   "source": [
    "for i in cardstodelete:\n",
    "    if i in kaarten:\n",
    "        del kaarten[i]"
   ]
  },
  {
   "cell_type": "markdown",
   "metadata": {},
   "source": [
    "### Get all actions from the board (if limit of 1000 exceeds, repeat the API request)"
   ]
  },
  {
   "cell_type": "code",
   "execution_count": null,
   "metadata": {},
   "outputs": [],
   "source": [
    "actions = []\n",
    "before = datetime.now().strftime(\"%Y-%m-%dT%H:%M:%S\"+\".000Z\")\n",
    "x = 1000\n",
    "while x == 1000:\n",
    "    actionsurl = board_url+\"/actions?before=\"+before+\"&limit=1000&filter=updateCard&\"+keys\n",
    "    temp = json.loads(json.dumps(requests.get(actionsurl).json()))\n",
    "    tmp = []\n",
    "    for i in temp:\n",
    "        actions.append(i)\n",
    "        for j,k in i.items():\n",
    "            if j == 'date':\n",
    "                tmp.append(k)\n",
    "    before = min(tmp)\n",
    "    x = len(temp)"
   ]
  },
  {
   "cell_type": "markdown",
   "metadata": {},
   "source": [
    "### Add the actions to the appropiate card"
   ]
  },
  {
   "cell_type": "code",
   "execution_count": null,
   "metadata": {},
   "outputs": [],
   "source": [
    "for n,o in kaarten.items():\n",
    "    o['actions'] = []\n",
    "    for i in actions:\n",
    "        for j,k in i.items():\n",
    "            if j == 'data':\n",
    "                for l,m in k.items():\n",
    "                    if l == 'card':\n",
    "                        if n == m['id']:\n",
    "                            o['actions'].append(i)"
   ]
  },
  {
   "cell_type": "markdown",
   "metadata": {},
   "source": [
    "### Get all list movements of all cards"
   ]
  },
  {
   "cell_type": "code",
   "execution_count": null,
   "metadata": {},
   "outputs": [],
   "source": [
    "for i,j in kaarten.items():\n",
    "    j['listmovements'] = {}\n",
    "    for k in j['actions']:\n",
    "        for l,m in k.items():\n",
    "            try:\n",
    "                j['listmovements'][dateCalc(k['date'])] = {'listAfter': k['data']['listAfter']['id'], 'listBefore': k['data']['listBefore']['id']}\n",
    "            except:\n",
    "                pass"
   ]
  },
  {
   "cell_type": "markdown",
   "metadata": {},
   "source": [
    "### Determine the right list movements with date and time (including the fist list)"
   ]
  },
  {
   "cell_type": "code",
   "execution_count": null,
   "metadata": {},
   "outputs": [],
   "source": [
    "for i,j in kaarten.items():\n",
    "    j['movements'] = {}\n",
    "    if j['listmovements'] == {}:\n",
    "        j['movements'][j['created']] = {'listBefore': None, 'listAfter': j['list']}\n",
    "    else:\n",
    "        tmpdates = []\n",
    "        for k,l in j['listmovements'].items():\n",
    "            tmpdates.append(k)\n",
    "        for m in tmpdates:\n",
    "            for n,o in j['listmovements'].items():\n",
    "                if n == m:\n",
    "                    j['movements'][m] = {'listAfter': o['listAfter'],'listBefore': o['listBefore']}\n",
    "        for k,l in j['listmovements'].items():\n",
    "            if k == min(tmpdates):\n",
    "                j['movements'][j['created']] = {'listBefore': None, 'listAfter': l['listBefore']}\n",
    "\n",
    "for i,j in kaarten.items():\n",
    "    del j['actions']\n"
   ]
  },
  {
   "cell_type": "markdown",
   "metadata": {},
   "source": [
    "### Because listnames could be changed, the list ID was added in previous commands. With this code, the current listname is displayed"
   ]
  },
  {
   "cell_type": "code",
   "execution_count": null,
   "metadata": {},
   "outputs": [],
   "source": [
    "historicallists = []\n",
    "historicallists.extend(chosenlists)\n",
    "\n",
    "for i,j in kaarten.items():\n",
    "    for k,l in j['movements'].items():\n",
    "        for m,n in l.items():\n",
    "            for o in lists:\n",
    "                if o['id'] == n:\n",
    "                    l[m] = o['name']\n",
    "                    historicallists.append(o['name'])"
   ]
  },
  {
   "cell_type": "markdown",
   "metadata": {},
   "source": [
    "### Create a dictionary with date-keys (past 400 days)"
   ]
  },
  {
   "cell_type": "code",
   "execution_count": null,
   "metadata": {},
   "outputs": [],
   "source": [
    "datesdict = {}\n",
    "now = datetime.now().date()\n",
    "numdays = 365\n",
    "\n",
    "for x in range (0, numdays):\n",
    "    datesdict[str(now - timedelta(days = x))] = {}\n",
    "    datesdict[str(now + timedelta(days = x))] = {}\n"
   ]
  },
  {
   "cell_type": "markdown",
   "metadata": {},
   "source": [
    "### Create a list for the categories"
   ]
  },
  {
   "cell_type": "code",
   "execution_count": null,
   "metadata": {},
   "outputs": [],
   "source": [
    "if config['Script options'].get('Calculate hours') == True:\n",
    "    categories = []\n",
    "    for i,j in customfields_dict['list'].items():\n",
    "        if j['name'] == config['Custom Field for Categories']:\n",
    "            for k in j['options'].values():\n",
    "                categories.append(k)"
   ]
  },
  {
   "cell_type": "markdown",
   "metadata": {},
   "source": [
    "### Determine how many cards were in what list on the dates in the Dates-dictionary"
   ]
  },
  {
   "cell_type": "code",
   "execution_count": null,
   "metadata": {},
   "outputs": [],
   "source": [
    "for i,j in datesdict.items():\n",
    "    datekey = datetime.strptime(i,'%Y-%m-%d').date()\n",
    "    for k in historicallists:\n",
    "        j[k] = 0\n",
    "    for l,m in kaarten.items():\n",
    "        if m['list'] in chosenlists:\n",
    "            if m['status'] != 'Archived':\n",
    "                for n,o in m['movements'].items():\n",
    "                    if n.date() <= datekey <= now:\n",
    "                        if o['listBefore'] != None:\n",
    "                            j[o['listBefore']] -= 1\n",
    "                            j[o['listAfter']] += 1\n",
    "                        else:\n",
    "                            j[o['listAfter']] += 1\n"
   ]
  },
  {
   "cell_type": "code",
   "execution_count": null,
   "metadata": {},
   "outputs": [],
   "source": [
    "statuslist = []\n",
    "for i,j in kaarten.items():\n",
    "    statuslist.append(j['status'])\n",
    "statuslist = list(dict.fromkeys(statuslist))\n"
   ]
  },
  {
   "cell_type": "code",
   "execution_count": null,
   "metadata": {},
   "outputs": [],
   "source": [
    "statuses = []\n",
    "for i,j in config.items():\n",
    "    if type(j) == list:\n",
    "        for k in j:\n",
    "            statuses.append((k,i))"
   ]
  },
  {
   "cell_type": "code",
   "execution_count": null,
   "metadata": {},
   "outputs": [],
   "source": [
    "for i,j in datesdict.items():\n",
    "    datekey = datetime.strptime(i, '%Y-%m-%d').date()\n",
    "    for k in statuslist:\n",
    "        j[str('Status ' + k)] = 0\n",
    "    for k,l in j.items():\n",
    "        for m in statuses:\n",
    "            if k == m[0]:\n",
    "                j[str('Status ' + m[1])] += l\n",
    "\n"
   ]
  },
  {
   "cell_type": "markdown",
   "metadata": {},
   "source": [
    "### Do the same for categories (if option is enabled)"
   ]
  },
  {
   "cell_type": "code",
   "execution_count": null,
   "metadata": {},
   "outputs": [],
   "source": [
    "if config['Script options'].get('Calculate hours') == True:\n",
    "    for i,j in datesdict.items():\n",
    "        datekey = datetime.strptime(i,'%Y-%m-%d').date()\n",
    "        for k,l in hours.items():\n",
    "            name = 'Hours ' + k\n",
    "            j[name] = 0\n",
    "            if l[config['Custom Field for Starting date']].date() <= datekey <= l[config['Custom Field for Ending date']].date():\n",
    "                j[name] += int(l[config['Custom Field with hours per month']])/30.4\n",
    "        for k in categories:\n",
    "            j[k] = 0\n",
    "        for l,m in kaarten.items():\n",
    "            if m[config['Custom Field for Categories']] in categories:\n",
    "                if m['status'] not in ['Archived','Done']:\n",
    "                    try:\n",
    "                        if m[config['Custom Field for Starting date']].date() <= datekey <= m[config['Custom Field for Ending date']].date():\n",
    "                            j[m[config['Custom Field for Categories']]] += int(m[config['Custom Field with hours per month']])/30.4\n",
    "                    except:\n",
    "                        pass"
   ]
  },
  {
   "cell_type": "markdown",
   "metadata": {},
   "source": [
    "### If all values are zero for a date, that date is useless, so deleting.."
   ]
  },
  {
   "cell_type": "code",
   "execution_count": null,
   "metadata": {},
   "outputs": [],
   "source": [
    "datetodelete = []\n",
    "for i,j in datesdict.items():\n",
    "    j['count'] = 0\n",
    "    for k in chosenlists:\n",
    "        j['count'] += j.get(k)\n",
    "    if config['Script options'].get('Calculate hours') == True:\n",
    "        for k in categories:\n",
    "            j['count'] += j.get(k)\n",
    "    if j['count'] == 0:\n",
    "        datetodelete.append(i)\n",
    "    del j['count']\n",
    "for i in datetodelete:\n",
    "    if i in datesdict:\n",
    "        del datesdict[i]"
   ]
  },
  {
   "cell_type": "markdown",
   "metadata": {},
   "source": [
    "### Create a few extra fields with dates and determine these dates with the list movements"
   ]
  },
  {
   "cell_type": "code",
   "execution_count": null,
   "metadata": {},
   "outputs": [],
   "source": [
    "for i,j in kaarten.items():\n",
    "    j['datedone'] = None\n",
    "    j['datestarted'] = None\n",
    "    j['datelastblocked'] = None\n",
    "    j['datelastunblocked'] = None\n",
    "\n",
    "    if j['status'] == 'Done':\n",
    "        tmp = []\n",
    "        for k,l in j['movements'].items():\n",
    "            if l['listAfter'] in config['Done']:\n",
    "                tmp.append(k)\n",
    "        j['datedone'] = max(tmp)\n",
    "\n",
    "    if j['status'] != 'Done' or 'Archived':\n",
    "        tmp = []\n",
    "        for k,l in j['movements'].items():\n",
    "            if l['listAfter'] in config['Doing']:\n",
    "                tmp.append(k)\n",
    "        if tmp != []:\n",
    "            j['datestarted'] = min(tmp)\n",
    "\n",
    "    if j['datestarted'] == None:\n",
    "        if j['status'] != 'Archived':\n",
    "            if j['status'] != 'Not started':\n",
    "                j['datestarted'] = j['created']\n",
    "    tmp = []\n",
    "    if j['status'] != 'Blocked':\n",
    "        for k,l in j['movements'].items():\n",
    "            if l['listBefore'] in config['Blocked']:\n",
    "                tmp.append(k)\n",
    "                j['datelastunblocked'] = max(tmp)\n",
    "    tmp = []\n",
    "    for k,l in j['movements'].items():\n",
    "        if l['listAfter'] in config['Blocked']:\n",
    "            tmp.append(k)\n",
    "            j['datelastblocked'] = max(tmp)"
   ]
  },
  {
   "cell_type": "markdown",
   "metadata": {},
   "source": [
    "### Create a temporary list with all dates from the Dates dictionary"
   ]
  },
  {
   "cell_type": "code",
   "execution_count": null,
   "metadata": {},
   "outputs": [],
   "source": [
    "datelist = []\n",
    "for i in datesdict.keys():\n",
    "    datelist.append(i)"
   ]
  },
  {
   "cell_type": "markdown",
   "metadata": {},
   "source": [
    "### Create a dictionary for in and out and determine values with dates already in the cards dictionary"
   ]
  },
  {
   "cell_type": "code",
   "execution_count": null,
   "metadata": {},
   "outputs": [],
   "source": [
    "in_out = {}\n",
    "for i in datelist:\n",
    "    in_out[i]= {}\n",
    "for i,j in in_out.items():\n",
    "    j['In'] = 0\n",
    "    j['Out'] = 0\n",
    "    for k,l in kaarten.items():\n",
    "        for m,n in l.items():\n",
    "            x = 0\n",
    "            y = 0\n",
    "            if m=='created':\n",
    "                if i==str(n)[0:10]:\n",
    "                    x += 1\n",
    "                    j['In'] += 1\n",
    "            if m=='datedone':\n",
    "                if i==str(n)[0:10]:\n",
    "                    y += 1\n",
    "                    j['Out'] += 1\n",
    "for i,j in in_out.items():\n",
    "    i = datetime.strptime(i,'%Y-%m-%d')\n",
    "for i,j in datesdict.items():\n",
    "    for k,l in in_out.items():\n",
    "        if i==k:\n",
    "            j['In'] = l['In']\n",
    "            j['Out'] = l['Out']\n"
   ]
  },
  {
   "cell_type": "markdown",
   "metadata": {},
   "source": [
    "# NEW"
   ]
  },
  {
   "cell_type": "code",
   "execution_count": null,
   "metadata": {},
   "outputs": [],
   "source": [
    "jsoncards = {}\n",
    "for i,j in kaarten.items():\n",
    "    del j['listmovements']\n",
    "    del j['movements']\n",
    "    jsoncards[i] = {}\n",
    "    for k,l in j.items():\n",
    "        if type(l) == datetime:\n",
    "            jsoncards[i][k] = l.strftime(\"%Y-%m-%d, %H:%M:%S\")\n",
    "        else:\n",
    "            jsoncards[i][k] = l"
   ]
  },
  {
   "cell_type": "code",
   "execution_count": null,
   "metadata": {},
   "outputs": [],
   "source": [
    "kaartenjson = './data/kaarten.json'\n",
    "timelinejson = './data/timeline.json'\n",
    "\n",
    "with open(kaartenjson, 'w') as outfile:\n",
    "    json.dump(jsoncards, outfile, indent=4, sort_keys=True)\n",
    "\n",
    "with open(timelinejson, 'w') as outfile:\n",
    "    json.dump(datesdict, outfile, indent=4, sort_keys=True)"
   ]
  },
  {
   "cell_type": "code",
   "execution_count": null,
   "metadata": {},
   "outputs": [],
   "source": [
    "string = datetime.now().strftime(\"%Y-%m-%d, %H:%M:%S\")\n",
    "text_file = open(\"./data/date.txt\", \"w\")\n",
    "n = text_file.write(string)\n",
    "text_file.close()"
   ]
  },
  {
   "cell_type": "code",
   "execution_count": null,
   "metadata": {},
   "outputs": [],
   "source": [
    "\n",
    "print(string)"
   ]
  }
 ],
 "metadata": {
  "kernelspec": {
   "display_name": "trello",
   "language": "python",
   "name": "trello"
  },
  "language_info": {
   "codemirror_mode": {
    "name": "ipython",
    "version": 3
   },
   "file_extension": ".py",
   "mimetype": "text/x-python",
   "name": "python",
   "nbconvert_exporter": "python",
   "pygments_lexer": "ipython3",
   "version": "3.8.1"
  }
 },
 "nbformat": 4,
 "nbformat_minor": 2
}
