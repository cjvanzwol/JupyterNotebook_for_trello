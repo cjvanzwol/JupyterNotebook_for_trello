{
 "cells": [
  {
   "cell_type": "code",
   "execution_count": null,
   "metadata": {},
   "outputs": [],
   "source": [
    "import json,os"
   ]
  },
  {
   "cell_type": "markdown",
   "metadata": {},
   "source": [
    "### Try to open JSON from ./data folder"
   ]
  },
  {
   "cell_type": "code",
   "execution_count": null,
   "metadata": {},
   "outputs": [],
   "source": [
    "kaartenjson = './data/kaarten.json'\n",
    "timelinejson = './data/timeline.json'\n",
    "def createfolders():\n",
    "    try:\n",
    "        temp = os.stat('./data')\n",
    "    except:\n",
    "        os.mkdir('./data')\n",
    "if os.path.exists(kaartenjson):\n",
    "    with open(kaartenjson) as json_file:\n",
    "        kaarten = json.load(json_file)\n",
    "else:\n",
    "    exec(open(\"./savetrellotojson.py\").read())\n",
    "    with open(kaartenjson) as json_file:\n",
    "        kaarten = json.load(json_file)\n",
    "    with open(timelinejson) as json_file:\n",
    "        timeline = json.load(json_file)\n"
   ]
  },
  {
   "cell_type": "code",
   "execution_count": null,
   "metadata": {},
   "outputs": [],
   "source": [
    "# Check if data is no more than 1 day old and update if necessary\n",
    "from datetime import date,datetime,timedelta\n",
    "with open('./data/date.txt', 'r') as f2:\n",
    "    date = datetime.strptime(f2.read(),'%Y-%m-%d, %H:%M:%S')\n",
    "\n",
    "if date < datetime.now() - timedelta(days = 1):\n",
    "    exec(open(\"./savetrellotojson.py\").read())\n",
    "    with open(kaartenjson) as json_file:\n",
    "        kaarten = json.load(json_file)\n",
    "    with open(timelinejson) as json_file:\n",
    "        timeline = json.load(json_file)    "
   ]
  }
 ],
 "metadata": {
  "kernelspec": {
   "display_name": "trello",
   "language": "python",
   "name": "trello"
  },
  "language_info": {
   "codemirror_mode": {
    "name": "ipython",
    "version": 3
   },
   "file_extension": ".py",
   "mimetype": "text/x-python",
   "name": "python",
   "nbconvert_exporter": "python",
   "pygments_lexer": "ipython3",
   "version": "3.8.1"
  }
 },
 "nbformat": 4,
 "nbformat_minor": 2
}
