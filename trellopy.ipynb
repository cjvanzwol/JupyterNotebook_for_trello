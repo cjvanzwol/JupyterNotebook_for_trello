{
 "cells": [
  {
   "cell_type": "markdown",
   "metadata": {},
   "source": [
    "## Import libraries"
   ]
  },
  {
   "cell_type": "code",
   "execution_count": null,
   "metadata": {},
   "outputs": [],
   "source": [
    "import requests,json,os, pprint,requests\n",
    "import pandas as pd\n",
    "from datetime import date,datetime,timedelta"
   ]
  },
  {
   "cell_type": "markdown",
   "metadata": {},
   "source": [
    "### Set configuration files"
   ]
  },
  {
   "cell_type": "code",
   "execution_count": null,
   "metadata": {},
   "outputs": [],
   "source": [
    "configurationfile = './configuration/configuration.txt'\n",
    "credentialsfile = './configuration/credentials.txt'"
   ]
  },
  {
   "cell_type": "markdown",
   "metadata": {},
   "source": [
    "### Load configuration and credentials"
   ]
  },
  {
   "cell_type": "code",
   "execution_count": null,
   "metadata": {},
   "outputs": [],
   "source": [
    "if os.path.exists(configurationfile):\n",
    "    with open(configurationfile) as json_file:\n",
    "        config = json.load(json_file)\n",
    "else:\n",
    "    print('No configuration found. To create one, run Setup!')\n",
    "\n",
    "if os.path.exists(credentialsfile):\n",
    "    with open(credentialsfile) as json_file:\n",
    "        credentials = json.load(json_file)\n",
    "else:\n",
    "    print('No credentials found. To create one, run Setup!')"
   ]
  },
  {
   "cell_type": "markdown",
   "metadata": {},
   "source": [
    "### Create URLs"
   ]
  },
  {
   "cell_type": "code",
   "execution_count": null,
   "metadata": {},
   "outputs": [],
   "source": [
    "keys = \"key=\"+credentials.get('api_key')+\"&token=\"+credentials.get('api_token')\n",
    "trello_base_url = \"https://api.trello.com/1/\"\n",
    "board_url = trello_base_url+\"boards/\"+config.get('boardid')\n",
    "url_cards = board_url+\"/cards?attachments=true&customFieldItems=true&filter=all&\"+keys\n",
    "url_lists = board_url+\"/lists?filter=all&\"+keys\n",
    "url_customfields = board_url+\"/customFields?\"+keys\n",
    "url_labels = board_url+\"/labels?\"+keys\n",
    "url_members = board_url+\"/members?\"+keys"
   ]
  },
  {
   "cell_type": "markdown",
   "metadata": {},
   "source": [
    "### Get the JSON objects and parse them"
   ]
  },
  {
   "cell_type": "code",
   "execution_count": null,
   "metadata": {},
   "outputs": [],
   "source": [
    "cards = json.loads(json.dumps(requests.get(url_cards).json()))\n",
    "lists = json.loads(json.dumps(requests.get(url_lists).json()))\n",
    "customfields = json.loads(json.dumps(requests.get(url_customfields).json()))\n",
    "labels = json.loads(json.dumps(requests.get(url_labels).json()))\n",
    "members = json.loads(json.dumps(requests.get(url_members).json()))"
   ]
  },
  {
   "cell_type": "markdown",
   "metadata": {},
   "source": [
    "### Create function to convert the JSON Time in string format to DateTime"
   ]
  },
  {
   "cell_type": "code",
   "execution_count": null,
   "metadata": {},
   "outputs": [],
   "source": [
    "def dateCalc(date):\n",
    "    newdate = datetime.strptime(date[0:19],'%Y-%m-%dT%H:%M:%S')\n",
    "    return newdate"
   ]
  },
  {
   "cell_type": "markdown",
   "metadata": {},
   "source": [
    "### Create dictionary for custom fields (if exists)"
   ]
  },
  {
   "cell_type": "code",
   "execution_count": null,
   "metadata": {},
   "outputs": [],
   "source": [
    "customfields_dict = {}\n",
    "for i in customfields:\n",
    "    customfields_dict[i['type']] = {}\n",
    "for i in customfields:\n",
    "    customfields_dict[i['type']][i['id']] = {}\n",
    "for i in customfields:\n",
    "    if i['type'] == 'list':\n",
    "        customfields_dict[i['type']][i['id']]['name'] = i['name']\n",
    "        customfields_dict['list'][i['id']]['options'] = {}\n",
    "        for j in i['options']:\n",
    "            customfields_dict['list'][i['id']]['options'][j['id']] = j['value'].get('text')\n",
    "    else:\n",
    "        customfields_dict[i['type']][i['id']]['name'] = i['name']\n",
    "\n"
   ]
  },
  {
   "cell_type": "markdown",
   "metadata": {},
   "source": [
    "## Create a list for all the chosen lists in the configuration"
   ]
  },
  {
   "cell_type": "code",
   "execution_count": null,
   "metadata": {},
   "outputs": [],
   "source": [
    "chosenlists = []\n",
    "for i in config.get('notstarted'):\n",
    "    chosenlists.append(i)\n",
    "chosenlists.extend(config.get('blocked'))\n",
    "chosenlists.extend(config.get('doing'))\n",
    "chosenlists.extend(config.get('done'))"
   ]
  },
  {
   "cell_type": "markdown",
   "metadata": {},
   "source": [
    "### Create function to get the hashed date from the card ID"
   ]
  },
  {
   "cell_type": "code",
   "execution_count": null,
   "metadata": {},
   "outputs": [],
   "source": [
    "def idtodate(cardid):\n",
    "    hex = cardid[0:8]\n",
    "    timestamp = int(hex,16)\n",
    "    timedate = datetime.fromtimestamp(timestamp)\n",
    "    return timedate\n"
   ]
  },
  {
   "cell_type": "markdown",
   "metadata": {},
   "source": [
    "### Create dictionary with all cards"
   ]
  },
  {
   "cell_type": "code",
   "execution_count": null,
   "metadata": {},
   "outputs": [],
   "source": [
    "kaarten = {}\n",
    "for i in cards:\n",
    "    kaarten[i['id']] = {'name': i['name'],\n",
    "                        'cardid': i['id'],\n",
    "                        'idlist': i['idList'],\n",
    "                        'customfields': i['customFieldItems'],\n",
    "                        'labels': {},\n",
    "                        'members': {},\n",
    "                        'sjabloon': i['isTemplate'],\n",
    "                        'due': None,\n",
    "                        'closed': i['closed'],\n",
    "                        'attachments': {},\n",
    "                        'shortUrl': i['shortUrl']\n",
    "                       }\n",
    "    for j in i['idMembers']:\n",
    "\n",
    "        for k in members:\n",
    "\n",
    "            if j == k['id']:\n",
    "                    kaarten[i['id']]['members'][k['id']] = k['fullName']\n",
    "    if i['due'] != None:\n",
    "        kaarten[i['id']]['due'] = dateCalc(i['due'])\n",
    "    for j in i['labels']:\n",
    "        kaarten[i['id']]['labels'][j['id']] = j['name']\n",
    "    for j in i['attachments']:\n",
    "        try:\n",
    "            if j['url'][0:21]== 'https://trello.com/c/':\n",
    "                kaarten[i['id']]['attachments'][j['url'][21:29]] = None\n",
    "        except:\n",
    "            pass"
   ]
  },
  {
   "cell_type": "markdown",
   "metadata": {},
   "source": [
    "### Add custom fields if they exist"
   ]
  },
  {
   "cell_type": "code",
   "execution_count": null,
   "metadata": {},
   "outputs": [],
   "source": [
    "if customfields_dict != {}:\n",
    "    for i,j in customfields_dict.items():\n",
    "        for k,l in j.items():\n",
    "            for m,n in kaarten.items():\n",
    "                n[l['name']] = None\n",
    "    for i,j in kaarten.items():\n",
    "        for k in j['customfields']:\n",
    "            if k['idCustomField'] in customfields_dict['list'].keys():\n",
    "                j[customfields_dict['list'][k['idCustomField']].get('name')] = customfields_dict['list'][k['idCustomField']]['options'].get(k['idValue'])\n",
    "            elif k['idCustomField'] in customfields_dict['checkbox'].keys():\n",
    "                if k['value']['checked'] == 'true':\n",
    "                    j[customfields_dict['checkbox'][k['idCustomField']].get('name')] = True\n",
    "                else:\n",
    "                    j[customfields_dict['checkbox'][k['idCustomField']].get('name')] = False\n",
    "            elif k['idCustomField'] in customfields_dict['date'].keys():\n",
    "                j[customfields_dict['date'][k['idCustomField']].get('name')] = dateCalc(k['value'].get('date'))\n",
    "            else:\n",
    "                for key in k['value']:\n",
    "                    j[customfields_dict[key][k['idCustomField']].get('name')] = k['value'].get(key)\n"
   ]
  },
  {
   "cell_type": "markdown",
   "metadata": {},
   "source": [
    "### Add the statuses (Not started, Doing, Blocked and Done), based on the configuration"
   ]
  },
  {
   "cell_type": "code",
   "execution_count": null,
   "metadata": {},
   "outputs": [],
   "source": [
    "for i,j in kaarten.items():\n",
    "    date = idtodate(i)\n",
    "    j['created'] = date\n",
    "    for k in lists:\n",
    "        if j['idlist'] == k['id']: j['list'] = k['name']\n",
    "    if j['list'] in config.get('notstarted'):\n",
    "        j['status'] = 'Not started'\n",
    "    elif j['list'] in config.get('doing'):\n",
    "        j['status'] = 'Doing'\n",
    "    elif j['list'] in config.get('blocked'):\n",
    "        j['status'] = 'Blocked'\n",
    "    elif j['list'] in config.get('done'):\n",
    "        j['status'] = 'Done'\n",
    "    else:\n",
    "        j['status'] = 'Archived'\n",
    "    del j['customfields']\n",
    "    del j['idlist']"
   ]
  },
  {
   "cell_type": "markdown",
   "metadata": {},
   "source": [
    "### Give the status Archived if the card is closed and not done"
   ]
  },
  {
   "cell_type": "code",
   "execution_count": null,
   "metadata": {},
   "outputs": [],
   "source": [
    "for i,j in kaarten.items():\n",
    "    if j['closed'] == True and j['status'] != 'Done':\n",
    "        j['status'] = 'Archived'"
   ]
  },
  {
   "cell_type": "markdown",
   "metadata": {},
   "source": [
    "### Create object with lists that are not chosen"
   ]
  },
  {
   "cell_type": "code",
   "execution_count": null,
   "metadata": {},
   "outputs": [],
   "source": [
    "liststodelete = []\n",
    "for i in lists:\n",
    "    if i['name'] not in chosenlists:\n",
    "        liststodelete.append(i['name'])"
   ]
  },
  {
   "cell_type": "markdown",
   "metadata": {},
   "source": [
    "### Create object with all cards that should be deleted (ignored)"
   ]
  },
  {
   "cell_type": "code",
   "execution_count": null,
   "metadata": {},
   "outputs": [],
   "source": [
    "cardstodelete = []\n",
    "for i,j in kaarten.items():\n",
    "    if j['sjabloon'] == True:\n",
    "        cardstodelete.append(i)\n",
    "    elif j['list'] in liststodelete:\n",
    "        cardstodelete.append(i)"
   ]
  },
  {
   "cell_type": "markdown",
   "metadata": {},
   "source": [
    "### Delete the cards in the object 'cardstodelete'"
   ]
  },
  {
   "cell_type": "code",
   "execution_count": null,
   "metadata": {},
   "outputs": [],
   "source": [
    "for i in cardstodelete:\n",
    "    if i in kaarten:\n",
    "        del kaarten[i]"
   ]
  },
  {
   "cell_type": "markdown",
   "metadata": {},
   "source": [
    "### Get all actions from the board (if limit of 1000 exceeds, repeat the API request)"
   ]
  },
  {
   "cell_type": "code",
   "execution_count": null,
   "metadata": {},
   "outputs": [],
   "source": [
    "actions = []\n",
    "before = datetime.now().strftime(\"%Y-%m-%dT%H:%M:%S\"+\".000Z\")\n",
    "x = 1000\n",
    "while x == 1000:\n",
    "    actionsurl = board_url+\"/actions?before=\"+before+\"&limit=1000&filter=updateCard&\"+keys\n",
    "    temp = json.loads(json.dumps(requests.get(actionsurl).json()))\n",
    "    tmp = []\n",
    "    for i in temp:\n",
    "        actions.append(i)\n",
    "        for j,k in i.items():\n",
    "            if j == 'date':\n",
    "                tmp.append(k)\n",
    "    before = min(tmp)\n",
    "    x = len(temp)"
   ]
  },
  {
   "cell_type": "markdown",
   "metadata": {},
   "source": [
    "### Add the actions to the appropiate card"
   ]
  },
  {
   "cell_type": "code",
   "execution_count": null,
   "metadata": {},
   "outputs": [],
   "source": [
    "for n,o in kaarten.items():\n",
    "    o['actions'] = []\n",
    "    for i in actions:\n",
    "        for j,k in i.items():\n",
    "            if j == 'data':\n",
    "                for l,m in k.items():\n",
    "                    if l == 'card':\n",
    "                        if n == m['id']:\n",
    "                            o['actions'].append(i)"
   ]
  },
  {
   "cell_type": "markdown",
   "metadata": {},
   "source": [
    "### Get all list movements of all cards"
   ]
  },
  {
   "cell_type": "code",
   "execution_count": null,
   "metadata": {},
   "outputs": [],
   "source": [
    "for i,j in kaarten.items():\n",
    "    j['listmovements'] = {}\n",
    "    for k in j['actions']:\n",
    "        for l,m in k.items():\n",
    "            try:\n",
    "                j['listmovements'][dateCalc(k['date'])] = {'listAfter': k['data']['listAfter']['id'], 'listBefore': k['data']['listBefore']['id']}\n",
    "            except:\n",
    "                pass"
   ]
  },
  {
   "cell_type": "markdown",
   "metadata": {},
   "source": [
    "### Determine the right list movements with date and time (including the fist list)"
   ]
  },
  {
   "cell_type": "code",
   "execution_count": null,
   "metadata": {},
   "outputs": [],
   "source": [
    "for i,j in kaarten.items():\n",
    "    j['movements'] = {}\n",
    "    if j['listmovements'] == {}:\n",
    "        j['movements'][j['created']] = {'listBefore': None, 'listAfter': j['list']}\n",
    "    else:\n",
    "        tmpdates = []\n",
    "        for k,l in j['listmovements'].items():\n",
    "            tmpdates.append(k)\n",
    "        for m in tmpdates:\n",
    "            for n,o in j['listmovements'].items():\n",
    "                if n == m:\n",
    "                    j['movements'][m] = {'listAfter': o['listAfter'],'listBefore': o['listBefore']}\n",
    "        for k,l in j['listmovements'].items():\n",
    "            if k == min(tmpdates):\n",
    "                j['movements'][j['created']] = {'listBefore': None, 'listAfter': l['listBefore']}\n",
    "\n",
    "for i,j in kaarten.items():\n",
    "    del j['actions']\n"
   ]
  },
  {
   "cell_type": "markdown",
   "metadata": {},
   "source": [
    "### Because listnames could be changed, the list ID was added in previous commands. With this code, the current listname is displayed"
   ]
  },
  {
   "cell_type": "code",
   "execution_count": null,
   "metadata": {},
   "outputs": [],
   "source": [
    "historicallists = []\n",
    "historicallists.extend(chosenlists)\n",
    "\n",
    "for i,j in kaarten.items():\n",
    "    for k,l in j['movements'].items():\n",
    "        for m,n in l.items():\n",
    "            for o in lists:\n",
    "                if o['id'] == n:\n",
    "                    l[m] = o['name']\n",
    "                    historicallists.append(o['name'])"
   ]
  },
  {
   "cell_type": "markdown",
   "metadata": {},
   "source": [
    "### Create a dictionary with date-keys (past 400 days)"
   ]
  },
  {
   "cell_type": "code",
   "execution_count": null,
   "metadata": {},
   "outputs": [],
   "source": [
    "datesdict = {}\n",
    "now = datetime.now().date()\n",
    "numdays = 400\n",
    "\n",
    "for x in range (0, numdays):\n",
    "    datesdict[str(now - timedelta(days = x))] = {}"
   ]
  },
  {
   "cell_type": "markdown",
   "metadata": {},
   "source": [
    "### Determine how many cards were in what list on the dates in the Dates-dictionary"
   ]
  },
  {
   "cell_type": "code",
   "execution_count": null,
   "metadata": {},
   "outputs": [],
   "source": [
    "for i,j in datesdict.items():\n",
    "    datekey = datetime.strptime(i,'%Y-%m-%d').date()\n",
    "    for k in historicallists:\n",
    "        j[k] = 0\n",
    "    for l,m in kaarten.items():\n",
    "        if m['list'] in chosenlists:\n",
    "            if m['status'] != 'Archived':\n",
    "                for n,o in m['movements'].items():\n",
    "                    if n.date() <= datekey <= now:\n",
    "                        if o['listBefore'] != None:\n",
    "                            j[o['listBefore']] -= 1\n",
    "                            j[o['listAfter']] += 1\n",
    "                        else:\n",
    "                            j[o['listAfter']] += 1"
   ]
  },
  {
   "cell_type": "markdown",
   "metadata": {},
   "source": [
    "### If all values are zero for a date, that date is useless, so deleting.."
   ]
  },
  {
   "cell_type": "code",
   "execution_count": null,
   "metadata": {},
   "outputs": [],
   "source": [
    "datetodelete = []\n",
    "for i,j in datesdict.items():\n",
    "    j['count'] = 0\n",
    "    for k in chosenlists:\n",
    "        j['count'] += j.get(k)\n",
    "    if j['count'] == 0:\n",
    "        datetodelete.append(i)\n",
    "    del j['count']\n",
    "for i in datetodelete:\n",
    "    if i in datesdict:\n",
    "        del datesdict[i]"
   ]
  },
  {
   "cell_type": "markdown",
   "metadata": {},
   "source": [
    "### Create a few extra fields with dates and determine these dates with the list movements"
   ]
  },
  {
   "cell_type": "code",
   "execution_count": null,
   "metadata": {},
   "outputs": [],
   "source": [
    "for i,j in kaarten.items():\n",
    "    j['datedone'] = None\n",
    "    j['datestarted'] = None\n",
    "    j['datelastblocked'] = None\n",
    "    j['datelastunblocked'] = None\n",
    "\n",
    "    if j['status'] == 'Done':\n",
    "        tmp = []\n",
    "        for k,l in j['movements'].items():\n",
    "            if l['listAfter'] in config['done']:\n",
    "                tmp.append(k)\n",
    "        j['datedone'] = max(tmp)\n",
    "\n",
    "    if j['status'] != 'Done' or 'Archived':\n",
    "        tmp = []\n",
    "        for k,l in j['movements'].items():\n",
    "            if l['listAfter'] in config['doing']:\n",
    "                tmp.append(k)\n",
    "        if tmp != []:\n",
    "            j['datestarted'] = min(tmp)\n",
    "\n",
    "    if j['datestarted'] == None:\n",
    "        if j['status'] != 'Archived':\n",
    "            if j['status'] != 'Not started':\n",
    "                j['datestarted'] = j['created']\n",
    "    tmp = []\n",
    "    if j['status'] != 'Blocked':\n",
    "        for k,l in j['movements'].items():\n",
    "            if l['listBefore'] in config['blocked']:\n",
    "                tmp.append(k)\n",
    "                j['datelastunblocked'] = max(tmp)\n",
    "    tmp = []\n",
    "    for k,l in j['movements'].items():\n",
    "        if l['listAfter'] in config['blocked']:\n",
    "            tmp.append(k)\n",
    "            j['datelastblocked'] = max(tmp)"
   ]
  },
  {
   "cell_type": "markdown",
   "metadata": {},
   "source": [
    "### Create a temporary list with all dates from the Dates dictionary"
   ]
  },
  {
   "cell_type": "code",
   "execution_count": null,
   "metadata": {},
   "outputs": [],
   "source": [
    "datelist = []\n",
    "for i in datesdict.keys():\n",
    "    datelist.append(i)"
   ]
  },
  {
   "cell_type": "markdown",
   "metadata": {},
   "source": [
    "### Create a dictionary for in and out and determine values with dates already in the cards dictionary"
   ]
  },
  {
   "cell_type": "code",
   "execution_count": null,
   "metadata": {},
   "outputs": [],
   "source": [
    "in_out = {}\n",
    "for i in datelist:\n",
    "    in_out[i]= {}\n",
    "for i,j in in_out.items():\n",
    "    j['In'] = 0\n",
    "    j['Out'] = 0\n",
    "    for k,l in kaarten.items():\n",
    "        for m,n in l.items():\n",
    "            x = 0\n",
    "            y = 0\n",
    "            if m=='created':\n",
    "                if i==str(n)[0:10]:\n",
    "                    x += 1\n",
    "                    j['In'] += 1\n",
    "            if m=='datedone':\n",
    "                if i==str(n)[0:10]:\n",
    "                    y += 1\n",
    "                    j['Out'] += 1\n",
    "for i,j in in_out.items():\n",
    "    i = datetime.strptime(i,'%Y-%m-%d')\n",
    "for i,j in datesdict.items():\n",
    "    for k,l in in_out.items():\n",
    "        if i==k:\n",
    "            j['In'] = l['In']\n",
    "            j['Out'] = l['Out']\n"
   ]
  },
  {
   "cell_type": "markdown",
   "metadata": {},
   "source": [
    "### Create function to ouput all cards to excel"
   ]
  },
  {
   "cell_type": "code",
   "execution_count": null,
   "metadata": {},
   "outputs": [],
   "source": [
    "def excelalldata():\n",
    "    import pandas as pd\n",
    "    labelslist = []\n",
    "    for i,j in kaarten.items():\n",
    "        for k,l in j.items():\n",
    "            if k=='labels' and l != {}:\n",
    "                for m,n in l.items():\n",
    "                    labelslist.append((i,n))\n",
    "    memberslist = []\n",
    "    for i,j in kaarten.items():\n",
    "        for k,l in j.items():\n",
    "            if k=='members' and l !={}:\n",
    "                for m,n in l.items():\n",
    "                    memberslist.append((i,n))\n",
    "    if labelslist != []:\n",
    "        columnslabels = ['cardid','label']\n",
    "        columnsmembers = ['cardid','member']\n",
    "        df1 = pd.DataFrame(data=kaarten).T\n",
    "        df2 = pd.DataFrame(data=labelslist,columns=columnslabels)\n",
    "        df3 = pd.merge(df1,df2,on='cardid', how='left')\n",
    "        df4 = pd.DataFrame(data=memberslist,columns=columnsmembers)\n",
    "        df5 = pd.merge(df3,df4,on='cardid', how='left')\n",
    "        df5.to_excel(config.get('excelfile'))\n",
    "    else:\n",
    "        columnsmembers = ['cardid','member']\n",
    "        df1 = pd.DataFrame(data=kaarten).T\n",
    "        df2 = pd.DataFrame(data=memberslist,columns=columnsmembers)\n",
    "        df3 = pd.merge(df1,df2,on='cardid', how='left')\n",
    "        df3.to_excel(config.get('excelfile'))"
   ]
  },
  {
   "cell_type": "markdown",
   "metadata": {},
   "source": [
    "### Create function to output the timeline to excel (WIP)"
   ]
  },
  {
   "cell_type": "code",
   "execution_count": null,
   "metadata": {},
   "outputs": [],
   "source": [
    "def exceltimeline():\n",
    "    print('exceltimeline is not defined yet.')"
   ]
  },
  {
   "cell_type": "markdown",
   "metadata": {},
   "source": [
    "### Create function to output the timeline to Google Sheets"
   ]
  },
  {
   "cell_type": "code",
   "execution_count": null,
   "metadata": {},
   "outputs": [],
   "source": [
    "def timelinetosheets(dictionary,sheetid,worksheet):\n",
    "    import gspread\n",
    "    from df2gspread import df2gspread as d2g\n",
    "    import oauth2client\n",
    "    from oauth2client.service_account import ServiceAccountCredentials\n",
    "    scope = ['https://spreadsheets.google.com/feeds',\n",
    "             'https://www.googleapis.com/auth/drive']\n",
    "    gcredentials = ServiceAccountCredentials.from_json_keyfile_name(config['jsonfilefromgoogle'] , scope)\n",
    "\n",
    "    client = gspread.authorize(gcredentials)\n",
    "    wks = client.open_by_key(sheetid)\n",
    "    x = 0\n",
    "    sheetnames = []\n",
    "    try:\n",
    "        while wks.get_worksheet(x) != None:\n",
    "            sheetnames.append(wks.get_worksheet(x).title)\n",
    "            x += 1\n",
    "    except:\n",
    "        pass\n",
    "    if not worksheet in sheetnames:\n",
    "        tempwks = wks.add_worksheet(title=worksheet, rows=\"1000\", cols=\"30\")\n",
    "\n",
    "    dataframe = pd.DataFrame(data=dictionary).T\n",
    "    d2g.upload(dataframe, sheetid, worksheet, credentials=gcredentials, row_names=True)\n",
    "    sheet = wks.worksheet(worksheet)\n",
    "    sheet.update_acell('A1', 'Date')"
   ]
  },
  {
   "cell_type": "markdown",
   "metadata": {},
   "source": [
    "### Create function to output all data to Google Sheets"
   ]
  },
  {
   "cell_type": "code",
   "execution_count": null,
   "metadata": {},
   "outputs": [],
   "source": [
    "def alldatatosheets(dictionary,sheetid,worksheet):\n",
    "    import gspread\n",
    "    from df2gspread import df2gspread as d2g\n",
    "    import oauth2client\n",
    "    from oauth2client.service_account import ServiceAccountCredentials\n",
    "    scope = ['https://spreadsheets.google.com/feeds',\n",
    "             'https://www.googleapis.com/auth/drive']\n",
    "    gcredentials = ServiceAccountCredentials.from_json_keyfile_name(config['jsonfilefromgoogle'] , scope)\n",
    "\n",
    "    client = gspread.authorize(gcredentials)\n",
    "    wks = client.open_by_key(sheetid)\n",
    "    x = 0\n",
    "    sheetnames = []\n",
    "    try:\n",
    "        while wks.get_worksheet(x) != None:\n",
    "            sheetnames.append(wks.get_worksheet(x).title)\n",
    "            x += 1\n",
    "    except:\n",
    "        pass\n",
    "    if not worksheet in sheetnames:\n",
    "        tempwks = wks.add_worksheet(title=worksheet, rows=\"1000\", cols=\"30\")\n",
    "\n",
    "    labelslist = []\n",
    "    for i,j in dictionary.items():\n",
    "        for k,l in j.items():\n",
    "            if k=='labels' and l != {}:\n",
    "                for m,n in l.items():\n",
    "                    labelslist.append((i,n))\n",
    "    memberslist = []\n",
    "    for i,j in dictionary.items():\n",
    "        for k,l in j.items():\n",
    "            if k=='members' and l !={}:\n",
    "                for m,n in l.items():\n",
    "                    memberslist.append((i,n))\n",
    "    for i,j in dictionary.items():\n",
    "        try:\n",
    "            del j['labels']\n",
    "        except:\n",
    "            pass\n",
    "    if labelslist != []:\n",
    "        columnslabels = ['cardid','label']\n",
    "        columnsmembers = ['cardid','member']\n",
    "        df1 = pd.DataFrame(data=kaarten).T\n",
    "        df2 = pd.DataFrame(data=labelslist,columns=columnslabels)\n",
    "        df3 = pd.merge(df1,df2,on='cardid', how='left')\n",
    "        df4 = pd.DataFrame(data=memberslist,columns=columnsmembers)\n",
    "        dataframe = pd.merge(df3,df4,on='cardid', how='left')\n",
    "\n",
    "\n",
    "    else:\n",
    "        columnsmembers = ['cardid','member']\n",
    "        df1 = pd.DataFrame(data=kaarten).T\n",
    "        df2 = pd.DataFrame(data=memberslist,columns=columnsmembers)\n",
    "        dataframe = pd.merge(df1,df2,on='cardid', how='left')\n",
    "\n",
    "    d2g.upload(dataframe, sheetid, worksheet, credentials=gcredentials, row_names=True)\n"
   ]
  },
  {
   "cell_type": "markdown",
   "metadata": {},
   "source": [
    "### Create function to archive cards older than set in configuration"
   ]
  },
  {
   "cell_type": "code",
   "execution_count": null,
   "metadata": {},
   "outputs": [],
   "source": [
    "def cleandonelists():\n",
    "    maxdatetime = datetime.now() - timedelta(days = int(config['maxdaysindone']))\n",
    "    for i,j in kaarten.items():\n",
    "        if j['status'] == 'Done' and j['closed'] == False:\n",
    "            if j['datedone'] < maxdatetime:\n",
    "                url = \"https://api.trello.com/1/cards/\"+i\n",
    "                querystring = {\"closed\":\"true\",\"key\":credentials.get('api_key'),\"token\":credentials.get('api_token')}\n",
    "                response = requests.request(\"PUT\", url, params=querystring)\n",
    "                response"
   ]
  },
  {
   "cell_type": "markdown",
   "metadata": {},
   "source": [
    "### Create function to remove members of cards in Done"
   ]
  },
  {
   "cell_type": "code",
   "execution_count": null,
   "metadata": {},
   "outputs": [],
   "source": [
    "def removemembers():\n",
    "    for i,j in kaarten.items():\n",
    "        if j['status'] == 'Done':\n",
    "            try:\n",
    "                for k,l in j['members'].items():\n",
    "                    url = 'https://api.trello.com/1/cards/'+i+'/idMembers/'+k\n",
    "                    querystring = {\"closed\":\"true\",\"key\":credentials.get('api_key'),\"token\":credentials.get('api_token')}\n",
    "                    response = requests.request('DELETE', url, params=querystring)\n",
    "                    response\n",
    "            except:\n",
    "                pass"
   ]
  },
  {
   "cell_type": "markdown",
   "metadata": {},
   "source": [
    "### Run all function with value True in the configuration"
   ]
  },
  {
   "cell_type": "code",
   "execution_count": null,
   "metadata": {},
   "outputs": [],
   "source": [
    "if config['scriptoptions']['excelalldata'] == True:\n",
    "    print('Not scripted yet.')\n",
    "#    excelalldata()\n",
    "if config['scriptoptions']['exceltimeline'] == True:\n",
    "    print('Not scripted yet.')    \n",
    "#    exceltimeline()\n",
    "if config['scriptoptions']['gspreadalldata'] == True:\n",
    "    alldatatosheets(kaarten,config['spreadsheetid'],config['alldatasheet'])\n",
    "if config['scriptoptions']['gspreadtimeline'] == True:\n",
    "    timelinetosheets(datesdict,config['spreadsheetid'],config['timelinesheet'])\n",
    "if config['scriptoptions']['cleandonelists'] == True:\n",
    "    cleandonelists()\n",
    "if config['scriptoptions']['removemembersfromdonecards'] == True:\n",
    "    removemembers()"
   ]
  }
 ],
 "metadata": {
  "kernelspec": {
   "display_name": "trello",
   "language": "python",
   "name": "trello"
  },
  "language_info": {
   "codemirror_mode": {
    "name": "ipython",
    "version": 3
   },
   "file_extension": ".py",
   "mimetype": "text/x-python",
   "name": "python",
   "nbconvert_exporter": "python",
   "pygments_lexer": "ipython3",
   "version": "3.8.1"
  }
 },
 "nbformat": 4,
 "nbformat_minor": 2
}
